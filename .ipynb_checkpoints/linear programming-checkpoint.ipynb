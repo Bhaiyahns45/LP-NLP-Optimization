{
 "cells": [
  {
   "cell_type": "code",
   "execution_count": null,
   "id": "8b7ef735",
   "metadata": {},
   "outputs": [],
   "source": []
  },
  {
   "cell_type": "markdown",
   "id": "51e4175d",
   "metadata": {},
   "source": [
    "## ortools"
   ]
  },
  {
   "cell_type": "code",
   "execution_count": 1,
   "id": "e874f5d0",
   "metadata": {},
   "outputs": [],
   "source": [
    "from ortools.linear_solver import pywraplp"
   ]
  },
  {
   "cell_type": "code",
   "execution_count": 2,
   "id": "97ad5424",
   "metadata": {},
   "outputs": [],
   "source": [
    "# solver = pywraplp.Solver.CreateSolver(\"Gurobi\")\n",
    "solver = pywraplp.Solver.CreateSolver(\"GLOP\")"
   ]
  },
  {
   "cell_type": "code",
   "execution_count": 3,
   "id": "53dbb2e9",
   "metadata": {},
   "outputs": [],
   "source": [
    "x= solver.NumVar(0,10,'x')\n",
    "y= solver.NumVar(0,10,'y')"
   ]
  },
  {
   "cell_type": "code",
   "execution_count": 4,
   "id": "7da6e225",
   "metadata": {},
   "outputs": [
    {
     "data": {
      "text/plain": [
       "<ortools.linear_solver.pywraplp.Constraint; proxy of <Swig Object of type 'operations_research::MPConstraint *' at 0x0000017450F6F540> >"
      ]
     },
     "execution_count": 4,
     "metadata": {},
     "output_type": "execute_result"
    }
   ],
   "source": [
    "solver.Add(-x+2*y<=8)\n",
    "solver.Add(2*x+y<=14)\n",
    "solver.Add(2*x-y<=10)"
   ]
  },
  {
   "cell_type": "code",
   "execution_count": 5,
   "id": "91b9edf3",
   "metadata": {},
   "outputs": [],
   "source": [
    "solver.Maximize(x+y)"
   ]
  },
  {
   "cell_type": "code",
   "execution_count": 6,
   "id": "1d219c3a",
   "metadata": {},
   "outputs": [],
   "source": [
    "result =  solver.Solve()"
   ]
  },
  {
   "cell_type": "code",
   "execution_count": 7,
   "id": "4bbf6c05",
   "metadata": {},
   "outputs": [
    {
     "data": {
      "text/plain": [
       "4.0"
      ]
     },
     "execution_count": 7,
     "metadata": {},
     "output_type": "execute_result"
    }
   ],
   "source": [
    "x.solution_value()"
   ]
  },
  {
   "cell_type": "code",
   "execution_count": 8,
   "id": "b7465c23",
   "metadata": {},
   "outputs": [
    {
     "data": {
      "text/plain": [
       "6.0"
      ]
     },
     "execution_count": 8,
     "metadata": {},
     "output_type": "execute_result"
    }
   ],
   "source": [
    "y.solution_value()"
   ]
  },
  {
   "cell_type": "code",
   "execution_count": 9,
   "id": "0e967eb7",
   "metadata": {},
   "outputs": [
    {
     "name": "stdout",
     "output_type": "stream",
     "text": [
      "Optimal Found\n"
     ]
    }
   ],
   "source": [
    "if result == pywraplp.Solver.OPTIMAL: print(\"Optimal Found\")"
   ]
  },
  {
   "cell_type": "code",
   "execution_count": null,
   "id": "0f676758",
   "metadata": {},
   "outputs": [],
   "source": []
  },
  {
   "cell_type": "markdown",
   "id": "3ce5e9c8",
   "metadata": {},
   "source": [
    "## scip"
   ]
  },
  {
   "cell_type": "code",
   "execution_count": null,
   "id": "3dfe7cb4",
   "metadata": {},
   "outputs": [],
   "source": []
  },
  {
   "cell_type": "code",
   "execution_count": 10,
   "id": "818817b0",
   "metadata": {},
   "outputs": [
    {
     "ename": "ModuleNotFoundError",
     "evalue": "No module named 'pyscipopt'",
     "output_type": "error",
     "traceback": [
      "\u001b[1;31m---------------------------------------------------------------------------\u001b[0m",
      "\u001b[1;31mModuleNotFoundError\u001b[0m                       Traceback (most recent call last)",
      "Cell \u001b[1;32mIn[10], line 1\u001b[0m\n\u001b[1;32m----> 1\u001b[0m \u001b[38;5;28;01mfrom\u001b[39;00m \u001b[38;5;21;01mpyscipopt\u001b[39;00m \u001b[38;5;28;01mimport\u001b[39;00m Model\n\u001b[0;32m      3\u001b[0m model \u001b[38;5;241m=\u001b[39m Model(\u001b[38;5;124m'\u001b[39m\u001b[38;5;124mexample\u001b[39m\u001b[38;5;124m'\u001b[39m)\n\u001b[0;32m      5\u001b[0m x\u001b[38;5;241m=\u001b[39m model\u001b[38;5;241m.\u001b[39maddVar(\u001b[38;5;124m'\u001b[39m\u001b[38;5;124mx\u001b[39m\u001b[38;5;124m'\u001b[39m)\n",
      "\u001b[1;31mModuleNotFoundError\u001b[0m: No module named 'pyscipopt'"
     ]
    }
   ],
   "source": [
    "from pyscipopt import Model\n",
    "\n",
    "model = Model('example')\n",
    "\n",
    "x= model.addVar('x')\n",
    "y= model.addVar('y')\n",
    "\n",
    "model.setObjective(x+y, sense = 'maximize')\n",
    "\n",
    "model.addCons(-x+2*y<=8)\n",
    "model.addCons(2*x+y<=14)\n",
    "model.addCons(2*x-y<=10)\n",
    "model.optimize()\n",
    "\n",
    "sol = model.getBestSol()\n",
    "\n",
    "sol[x], sol[y]"
   ]
  },
  {
   "cell_type": "code",
   "execution_count": null,
   "id": "48ad40bd",
   "metadata": {},
   "outputs": [],
   "source": []
  },
  {
   "cell_type": "code",
   "execution_count": null,
   "id": "44bcb632",
   "metadata": {},
   "outputs": [],
   "source": []
  },
  {
   "cell_type": "code",
   "execution_count": null,
   "id": "f5267368",
   "metadata": {},
   "outputs": [],
   "source": []
  },
  {
   "cell_type": "code",
   "execution_count": null,
   "id": "00fee7a5",
   "metadata": {},
   "outputs": [],
   "source": []
  },
  {
   "cell_type": "code",
   "execution_count": null,
   "id": "4acca6a2",
   "metadata": {},
   "outputs": [],
   "source": []
  },
  {
   "cell_type": "code",
   "execution_count": null,
   "id": "d99804fd",
   "metadata": {},
   "outputs": [],
   "source": []
  },
  {
   "cell_type": "code",
   "execution_count": null,
   "id": "ad14a9d5",
   "metadata": {},
   "outputs": [],
   "source": []
  },
  {
   "cell_type": "code",
   "execution_count": null,
   "id": "fb6e5f5e",
   "metadata": {},
   "outputs": [],
   "source": []
  },
  {
   "cell_type": "markdown",
   "id": "9bb57dbc",
   "metadata": {},
   "source": [
    "## pyomo"
   ]
  },
  {
   "cell_type": "markdown",
   "id": "a49dc7ed",
   "metadata": {},
   "source": [
    "    bonmin       Heuristic MINLP solver\n",
    "    cbc          MILP solver\n",
    "    conopt       Feasible path NLP solver\n",
    "    couenne      Deterministic global MINLP solver\n",
    "    cplex        MILP solver\n",
    "    filmint      Heuristic MINLP solver\n",
    "    filter       SQP NLP solver\n",
    "    ipopt        Interior point NLP solver\n",
    "    knitro       Convex MINLP solver\n",
    "    l-bfgs-b     Bound-constrained NLP solver\n",
    "    lancelot     Augmented Lagrangian NLP solver\n",
    "    lgo          Lipschitz-Continuous Global Optimizer\n",
    "    loqo         Interior point NLP solver\n",
    "    minlp        Heuristic MINLP solver\n",
    "    minos        SLC NLP solver\n",
    "    minto        MILP solver\n",
    "    mosek        Interior point NLP solver\n",
    "    octeract     Deterministic global MINLP solver\n",
    "    ooqp         Convex QP solver\n",
    "    path         Nonlinear MCP solver\n",
    "    raposa       A Global Solver for Polynomial Programming Problems\n",
    "    snopt        SQP NLP solver"
   ]
  },
  {
   "cell_type": "code",
   "execution_count": null,
   "id": "81e2d2cd",
   "metadata": {},
   "outputs": [],
   "source": []
  },
  {
   "cell_type": "code",
   "execution_count": null,
   "id": "67957959",
   "metadata": {},
   "outputs": [],
   "source": []
  },
  {
   "cell_type": "code",
   "execution_count": 11,
   "id": "d0d3f322",
   "metadata": {},
   "outputs": [],
   "source": [
    "import pyomo.environ as pyo"
   ]
  },
  {
   "cell_type": "code",
   "execution_count": 12,
   "id": "82879d54",
   "metadata": {},
   "outputs": [],
   "source": [
    "from pyomo.environ import *"
   ]
  },
  {
   "cell_type": "code",
   "execution_count": 13,
   "id": "a84be0f0",
   "metadata": {},
   "outputs": [],
   "source": [
    "from pyomo.opt import SolverFactory"
   ]
  },
  {
   "cell_type": "code",
   "execution_count": 14,
   "id": "fa6a7a65",
   "metadata": {},
   "outputs": [],
   "source": [
    "model = pyo.ConcreteModel()"
   ]
  },
  {
   "cell_type": "code",
   "execution_count": 15,
   "id": "7c415b80",
   "metadata": {},
   "outputs": [],
   "source": [
    "model.x = pyo.Var(bounds= (0,10))\n",
    "model.y = pyo.Var(bounds= (0,10))"
   ]
  },
  {
   "cell_type": "code",
   "execution_count": 16,
   "id": "aa97784a",
   "metadata": {},
   "outputs": [],
   "source": [
    "x= model.x\n",
    "y=model.y"
   ]
  },
  {
   "cell_type": "code",
   "execution_count": 17,
   "id": "90093335",
   "metadata": {},
   "outputs": [],
   "source": [
    "model.C1 = pyo.Constraint(expr = -x+2*y<=8)\n",
    "model.C2 = pyo.Constraint(expr = 2*x+y<=14)\n",
    "model.C3 = pyo.Constraint(expr = 2*x-y<=10)"
   ]
  },
  {
   "cell_type": "code",
   "execution_count": 18,
   "id": "39948c11",
   "metadata": {},
   "outputs": [],
   "source": [
    "model.obj = pyo.Objective(expr = x+y, sense = maximize)"
   ]
  },
  {
   "cell_type": "code",
   "execution_count": 19,
   "id": "22ce7c30",
   "metadata": {},
   "outputs": [
    {
     "data": {
      "text/plain": [
       "{'Problem': [{'Name': 'unknown', 'Lower bound': 10.0, 'Upper bound': 10.0, 'Number of objectives': 1, 'Number of constraints': 3, 'Number of variables': 2, 'Number of nonzeros': 6, 'Sense': 'maximize'}], 'Solver': [{'Status': 'ok', 'Termination condition': 'optimal', 'Statistics': {'Branch and bound': {'Number of bounded subproblems': 0, 'Number of created subproblems': 0}}, 'Error rc': 0, 'Time': 0.04707503318786621}], 'Solution': [OrderedDict([('number of solutions', 0), ('number of solutions displayed', 0)])]}"
      ]
     },
     "execution_count": 19,
     "metadata": {},
     "output_type": "execute_result"
    }
   ],
   "source": [
    "# opt = pyo.SolverFactory('cplex')\n",
    "opt = pyo.SolverFactory('glpk')\n",
    "opt.solve(model) "
   ]
  },
  {
   "cell_type": "code",
   "execution_count": 20,
   "id": "0582e765",
   "metadata": {},
   "outputs": [
    {
     "name": "stdout",
     "output_type": "stream",
     "text": [
      "2 Var Declarations\n",
      "    x : Size=1, Index=None\n",
      "        Key  : Lower : Value : Upper : Fixed : Stale : Domain\n",
      "        None :     0 :   4.0 :    10 : False : False :  Reals\n",
      "    y : Size=1, Index=None\n",
      "        Key  : Lower : Value : Upper : Fixed : Stale : Domain\n",
      "        None :     0 :   6.0 :    10 : False : False :  Reals\n",
      "\n",
      "1 Objective Declarations\n",
      "    obj : Size=1, Index=None, Active=True\n",
      "        Key  : Active : Sense    : Expression\n",
      "        None :   True : maximize : x + y\n",
      "\n",
      "3 Constraint Declarations\n",
      "    C1 : Size=1, Index=None, Active=True\n",
      "        Key  : Lower : Body      : Upper : Active\n",
      "        None :  -Inf : - x + 2*y :   8.0 :   True\n",
      "    C2 : Size=1, Index=None, Active=True\n",
      "        Key  : Lower : Body    : Upper : Active\n",
      "        None :  -Inf : 2*x + y :  14.0 :   True\n",
      "    C3 : Size=1, Index=None, Active=True\n",
      "        Key  : Lower : Body    : Upper : Active\n",
      "        None :  -Inf : 2*x - y :  10.0 :   True\n",
      "\n",
      "6 Declarations: x y C1 C2 C3 obj\n"
     ]
    }
   ],
   "source": [
    "model.pprint()"
   ]
  },
  {
   "cell_type": "code",
   "execution_count": 21,
   "id": "62b3e742",
   "metadata": {},
   "outputs": [
    {
     "data": {
      "text/plain": [
       "4.0"
      ]
     },
     "execution_count": 21,
     "metadata": {},
     "output_type": "execute_result"
    }
   ],
   "source": [
    "pyo.value(x)"
   ]
  },
  {
   "cell_type": "code",
   "execution_count": 22,
   "id": "16599cc2",
   "metadata": {},
   "outputs": [
    {
     "data": {
      "text/plain": [
       "6.0"
      ]
     },
     "execution_count": 22,
     "metadata": {},
     "output_type": "execute_result"
    }
   ],
   "source": [
    "pyo.value(y)"
   ]
  },
  {
   "cell_type": "code",
   "execution_count": null,
   "id": "49220712",
   "metadata": {},
   "outputs": [],
   "source": []
  },
  {
   "cell_type": "code",
   "execution_count": null,
   "id": "4594bd66",
   "metadata": {},
   "outputs": [],
   "source": []
  },
  {
   "cell_type": "markdown",
   "id": "a89edbf2",
   "metadata": {},
   "source": [
    "## PuLP"
   ]
  },
  {
   "cell_type": "code",
   "execution_count": 33,
   "id": "cd632397",
   "metadata": {},
   "outputs": [],
   "source": [
    "# only solve LP"
   ]
  },
  {
   "cell_type": "code",
   "execution_count": 24,
   "id": "b642500a",
   "metadata": {},
   "outputs": [],
   "source": [
    "# !pip install pulp"
   ]
  },
  {
   "cell_type": "code",
   "execution_count": 25,
   "id": "02c60107",
   "metadata": {},
   "outputs": [],
   "source": [
    "import pulp as pl"
   ]
  },
  {
   "cell_type": "code",
   "execution_count": 26,
   "id": "83ab2f94",
   "metadata": {},
   "outputs": [],
   "source": [
    "model = pl.LpProblem('Ex', pl.LpMaximize)"
   ]
  },
  {
   "cell_type": "code",
   "execution_count": 27,
   "id": "0e9a46e8",
   "metadata": {},
   "outputs": [],
   "source": [
    "x= pl.LpVariable('x', 0,10)\n",
    "y= pl.LpVariable('y', 0,10)"
   ]
  },
  {
   "cell_type": "code",
   "execution_count": 28,
   "id": "554a44c7",
   "metadata": {},
   "outputs": [],
   "source": [
    "model += -x+2*y<=7\n",
    "model += 2*x+y<=14\n",
    "model += 2*x-y<=10"
   ]
  },
  {
   "cell_type": "code",
   "execution_count": 29,
   "id": "9c866a67",
   "metadata": {},
   "outputs": [],
   "source": [
    "model += x+y"
   ]
  },
  {
   "cell_type": "code",
   "execution_count": 30,
   "id": "3a765e51",
   "metadata": {},
   "outputs": [],
   "source": [
    "status = model.solve()"
   ]
  },
  {
   "cell_type": "code",
   "execution_count": 31,
   "id": "9bea7d22",
   "metadata": {},
   "outputs": [],
   "source": [
    "x_value = pl.value(x)\n",
    "y_value = pl.value(y)"
   ]
  },
  {
   "cell_type": "code",
   "execution_count": 32,
   "id": "ab120e45",
   "metadata": {},
   "outputs": [
    {
     "data": {
      "text/plain": [
       "(4.2, 5.6)"
      ]
     },
     "execution_count": 32,
     "metadata": {},
     "output_type": "execute_result"
    }
   ],
   "source": [
    "x_value, y_value"
   ]
  },
  {
   "cell_type": "code",
   "execution_count": null,
   "id": "0bd02087",
   "metadata": {},
   "outputs": [],
   "source": []
  },
  {
   "cell_type": "code",
   "execution_count": null,
   "id": "e8ae439d",
   "metadata": {},
   "outputs": [],
   "source": []
  },
  {
   "cell_type": "code",
   "execution_count": null,
   "id": "20351182",
   "metadata": {},
   "outputs": [],
   "source": []
  },
  {
   "cell_type": "code",
   "execution_count": null,
   "id": "042f5763",
   "metadata": {},
   "outputs": [],
   "source": []
  }
 ],
 "metadata": {
  "kernelspec": {
   "display_name": "Python 3 (ipykernel)",
   "language": "python",
   "name": "python3"
  },
  "language_info": {
   "codemirror_mode": {
    "name": "ipython",
    "version": 3
   },
   "file_extension": ".py",
   "mimetype": "text/x-python",
   "name": "python",
   "nbconvert_exporter": "python",
   "pygments_lexer": "ipython3",
   "version": "3.10.9"
  }
 },
 "nbformat": 4,
 "nbformat_minor": 5
}
