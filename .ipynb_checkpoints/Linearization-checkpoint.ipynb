{
 "cells": [
  {
   "cell_type": "code",
   "execution_count": 26,
   "id": "458ee43e",
   "metadata": {},
   "outputs": [],
   "source": [
    "import pyomo.environ as pyo\n",
    "from pyomo.environ import *\n",
    "from pyomo.opt import SolverFactory"
   ]
  },
  {
   "cell_type": "code",
   "execution_count": 27,
   "id": "e1e0254a",
   "metadata": {},
   "outputs": [],
   "source": [
    "model = pyo.ConcreteModel()"
   ]
  },
  {
   "cell_type": "code",
   "execution_count": 28,
   "id": "f77bd344",
   "metadata": {},
   "outputs": [],
   "source": [
    "model.C = pyo.Var(range(1,4))\n",
    "model.n = pyo.Var(range(1, 4), within=Integers, bounds=(0, 1000))\n",
    "model.b = pyo.Var(within= Binary)"
   ]
  },
  {
   "cell_type": "code",
   "execution_count": 29,
   "id": "a68d19c3",
   "metadata": {},
   "outputs": [],
   "source": [
    "C = model.C\n",
    "n = model.n\n",
    "b = model.b"
   ]
  },
  {
   "cell_type": "code",
   "execution_count": 30,
   "id": "3c9cb32b",
   "metadata": {},
   "outputs": [],
   "source": [
    "\n",
    "model.bj = pyo.Objective(expr = pyo.summation(C))\n"
   ]
  },
  {
   "cell_type": "code",
   "execution_count": 31,
   "id": "a615f9c1",
   "metadata": {},
   "outputs": [],
   "source": [
    "model.total = pyo.Constraint(expr = pyo.summation(n) == 2100)\n",
    "\n",
    "model.C1 = pyo.Constraint(expr = C[1] == 2*n[1])\n",
    "\n",
    "model.C2 = pyo.Constraint(expr = C[2] == b*6*n[2] + 1000)\n",
    "model.C2n = pyo.Constraint(expr = n[2] <= b*1000)\n",
    "\n",
    "model.C3 = pyo.Constraint(expr = C[3] == 7*n[3])\n"
   ]
  },
  {
   "cell_type": "code",
   "execution_count": 32,
   "id": "14524200",
   "metadata": {},
   "outputs": [
    {
     "name": "stdout",
     "output_type": "stream",
     "text": [
      "n : Size=3, Index=n_index\n",
      "    Key : Lower : Value : Upper : Fixed : Stale : Domain\n",
      "      1 :     0 :  None :  1000 : False :  True : Integers\n",
      "      2 :     0 :  None :  1000 : False :  True : Integers\n",
      "      3 :     0 :  None :  1000 : False :  True : Integers\n"
     ]
    }
   ],
   "source": [
    "model.n.pprint()"
   ]
  },
  {
   "cell_type": "code",
   "execution_count": 33,
   "id": "de1d5986",
   "metadata": {},
   "outputs": [
    {
     "data": {
      "text/plain": [
       "{'Problem': [{'Lower bound': -inf, 'Upper bound': inf, 'Number of objectives': 1, 'Number of constraints': 5, 'Number of variables': 7, 'Sense': 'unknown'}], 'Solver': [{'Status': 'ok', 'Message': 'Ipopt 3.11.1\\\\x3a Optimal Solution Found', 'Termination condition': 'optimal', 'Id': 0, 'Error rc': 0, 'Time': 0.05305886268615723}], 'Solution': [OrderedDict([('number of solutions', 0), ('number of solutions displayed', 0)])]}"
      ]
     },
     "execution_count": 33,
     "metadata": {},
     "output_type": "execute_result"
    }
   ],
   "source": [
    "opt = pyo.SolverFactory('ipopt')\n",
    "# opt = pyo.SolverFactory('gurobi')\n",
    "# opt = pyo.SolverFactory('glpk') # -> this will give error , to solve using glpk/cbc u have to convert it into linear\n",
    "opt.solve(model)"
   ]
  },
  {
   "cell_type": "code",
   "execution_count": 34,
   "id": "1815a2f9",
   "metadata": {},
   "outputs": [
    {
     "name": "stdout",
     "output_type": "stream",
     "text": [
      "n1 =  1000.0\n",
      "n2 =  583.3333333377169\n",
      "n3 =  516.6666566627846\n",
      "ntotal = n[1] + n[2] + n[3] 2099.9999900005014\n"
     ]
    }
   ],
   "source": [
    "print(\"n1 = \", pyo.value(n[1]))\n",
    "print(\"n2 = \", pyo.value(n[2]))\n",
    "print(\"n3 = \", pyo.value(n[3]))\n",
    "\n",
    "print('ntotal =', pyo.summation(n), pyo.value(pyo.summation(n)))"
   ]
  },
  {
   "cell_type": "code",
   "execution_count": 36,
   "id": "22f811d1",
   "metadata": {},
   "outputs": [
    {
     "name": "stdout",
     "output_type": "stream",
     "text": [
      "C1 =  1000.0\n",
      "C2 =  583.3333333377169\n",
      "C3 =  516.6666566627846\n",
      "Ctotal = C[1] + C[2] + C[3] 8658.333283303347\n"
     ]
    }
   ],
   "source": [
    "print(\"C1 = \", pyo.value(n[1]))\n",
    "print(\"C2 = \", pyo.value(n[2]))\n",
    "print(\"C3 = \", pyo.value(n[3]))\n",
    "\n",
    "print('Ctotal =', pyo.summation(C), pyo.value(pyo.summation(C)))"
   ]
  },
  {
   "cell_type": "code",
   "execution_count": null,
   "id": "eb0c5e88",
   "metadata": {},
   "outputs": [],
   "source": []
  },
  {
   "cell_type": "code",
   "execution_count": null,
   "id": "9f33eb58",
   "metadata": {},
   "outputs": [],
   "source": []
  },
  {
   "cell_type": "code",
   "execution_count": 37,
   "id": "1cc50cbc",
   "metadata": {},
   "outputs": [],
   "source": [
    "# doing linearization to solve this problenm usikg linear solver"
   ]
  },
  {
   "cell_type": "code",
   "execution_count": 38,
   "id": "7d659795",
   "metadata": {},
   "outputs": [],
   "source": [
    "model = pyo.ConcreteModel()"
   ]
  },
  {
   "cell_type": "code",
   "execution_count": 39,
   "id": "f67e23d8",
   "metadata": {},
   "outputs": [],
   "source": [
    "model.C = pyo.Var(range(1,4))\n",
    "model.n = pyo.Var(range(1, 4), within=Integers, bounds=(0, 1000))\n",
    "model.b = pyo.Var(within= Binary)"
   ]
  },
  {
   "cell_type": "code",
   "execution_count": 40,
   "id": "0fd0c3a5",
   "metadata": {},
   "outputs": [],
   "source": [
    "C = model.C\n",
    "n = model.n\n",
    "b = model.b"
   ]
  },
  {
   "cell_type": "code",
   "execution_count": 41,
   "id": "d182cf6c",
   "metadata": {},
   "outputs": [],
   "source": [
    "model.bj = pyo.Objective(expr = pyo.summation(C))"
   ]
  },
  {
   "cell_type": "code",
   "execution_count": null,
   "id": "e0577b03",
   "metadata": {},
   "outputs": [],
   "source": []
  },
  {
   "cell_type": "code",
   "execution_count": 42,
   "id": "3832bb08",
   "metadata": {},
   "outputs": [],
   "source": [
    "M = 100000"
   ]
  },
  {
   "cell_type": "code",
   "execution_count": 43,
   "id": "73c25b4c",
   "metadata": {},
   "outputs": [],
   "source": [
    "model.total = pyo.Constraint(expr = pyo.summation(n) == 2100)\n",
    "\n",
    "model.C1 = pyo.Constraint(expr = C[1] == 2*n[1])\n",
    "\n",
    "model.C2a = pyo.Constraint(expr = -b*M <= C[2])\n",
    "model.C2b = pyo.Constraint(expr = C[2] <= b*M)\n",
    "model.C2c = pyo.Constraint(expr = -(1-b)*M <= C[2] - (6*n[2]+1000))\n",
    "model.C2d = pyo.Constraint(expr = C[2] - (6*n[2]+1000) <= (1-b)*M)\n",
    "\n",
    "model.C2n = pyo.Constraint(expr = n[2] <= b*1000)\n",
    "\n",
    "model.C3 = pyo.Constraint(expr = C[3] == 7*n[3])\n"
   ]
  },
  {
   "cell_type": "code",
   "execution_count": 44,
   "id": "73ac1794",
   "metadata": {},
   "outputs": [],
   "source": [
    "opt = pyo.SolverFactory('glpk')"
   ]
  },
  {
   "cell_type": "code",
   "execution_count": 45,
   "id": "9ca4e6b6",
   "metadata": {},
   "outputs": [
    {
     "data": {
      "text/plain": [
       "{'Problem': [{'Name': 'unknown', 'Lower bound': 9700.0, 'Upper bound': 9700.0, 'Number of objectives': 1, 'Number of constraints': 8, 'Number of variables': 7, 'Number of nonzeros': 19, 'Sense': 'minimize'}], 'Solver': [{'Status': 'ok', 'Termination condition': 'optimal', 'Statistics': {'Branch and bound': {'Number of bounded subproblems': '1', 'Number of created subproblems': '1'}}, 'Error rc': 0, 'Time': 0.0506131649017334}], 'Solution': [OrderedDict([('number of solutions', 0), ('number of solutions displayed', 0)])]}"
      ]
     },
     "execution_count": 45,
     "metadata": {},
     "output_type": "execute_result"
    }
   ],
   "source": [
    "opt.solve(model)"
   ]
  },
  {
   "cell_type": "code",
   "execution_count": 46,
   "id": "b3286c2d",
   "metadata": {},
   "outputs": [
    {
     "name": "stdout",
     "output_type": "stream",
     "text": [
      "n1 =  1000.0\n",
      "n2 =  1000.0\n",
      "n3 =  100.0\n",
      "ntotal = n[1] + n[2] + n[3] 2100.0\n"
     ]
    }
   ],
   "source": [
    "print(\"n1 = \", pyo.value(n[1]))\n",
    "print(\"n2 = \", pyo.value(n[2]))\n",
    "print(\"n3 = \", pyo.value(n[3]))\n",
    "\n",
    "print('ntotal =', pyo.summation(n), pyo.value(pyo.summation(n)))"
   ]
  },
  {
   "cell_type": "code",
   "execution_count": 47,
   "id": "2b71412c",
   "metadata": {},
   "outputs": [
    {
     "name": "stdout",
     "output_type": "stream",
     "text": [
      "C1 =  1000.0\n",
      "C2 =  1000.0\n",
      "C3 =  100.0\n",
      "Ctotal = C[1] + C[2] + C[3] 9700.0\n"
     ]
    }
   ],
   "source": [
    "print(\"C1 = \", pyo.value(n[1]))\n",
    "print(\"C2 = \", pyo.value(n[2]))\n",
    "print(\"C3 = \", pyo.value(n[3]))\n",
    "\n",
    "print('Ctotal =', pyo.summation(C), pyo.value(pyo.summation(C)))"
   ]
  },
  {
   "cell_type": "code",
   "execution_count": null,
   "id": "0967bac7",
   "metadata": {},
   "outputs": [],
   "source": []
  },
  {
   "cell_type": "code",
   "execution_count": null,
   "id": "8c14dded",
   "metadata": {},
   "outputs": [],
   "source": []
  },
  {
   "cell_type": "code",
   "execution_count": null,
   "id": "d123b058",
   "metadata": {},
   "outputs": [],
   "source": []
  },
  {
   "cell_type": "code",
   "execution_count": null,
   "id": "337a5a8e",
   "metadata": {},
   "outputs": [],
   "source": []
  }
 ],
 "metadata": {
  "kernelspec": {
   "display_name": "Python 3 (ipykernel)",
   "language": "python",
   "name": "python3"
  },
  "language_info": {
   "codemirror_mode": {
    "name": "ipython",
    "version": 3
   },
   "file_extension": ".py",
   "mimetype": "text/x-python",
   "name": "python",
   "nbconvert_exporter": "python",
   "pygments_lexer": "ipython3",
   "version": "3.10.9"
  }
 },
 "nbformat": 4,
 "nbformat_minor": 5
}
