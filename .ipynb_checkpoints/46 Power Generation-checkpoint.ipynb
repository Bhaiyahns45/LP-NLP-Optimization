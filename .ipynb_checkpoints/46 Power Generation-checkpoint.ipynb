{
 "cells": [
  {
   "cell_type": "code",
   "execution_count": 1,
   "id": "cc72ef17",
   "metadata": {},
   "outputs": [],
   "source": [
    "import pyomo.environ as pyo\n",
    "from pyomo.environ import *\n",
    "from pyomo.opt import SolverFactory"
   ]
  },
  {
   "cell_type": "code",
   "execution_count": 2,
   "id": "af9b6bd5",
   "metadata": {},
   "outputs": [],
   "source": [
    "import pandas as pd"
   ]
  },
  {
   "cell_type": "code",
   "execution_count": 7,
   "id": "164a74a3",
   "metadata": {},
   "outputs": [],
   "source": [
    "datagen = pd.read_excel(\"power_generation.xlsx\", sheet_name=\"gen\")"
   ]
  },
  {
   "cell_type": "code",
   "execution_count": 8,
   "id": "7f7f5693",
   "metadata": {},
   "outputs": [
    {
     "data": {
      "text/html": [
       "<div>\n",
       "<style scoped>\n",
       "    .dataframe tbody tr th:only-of-type {\n",
       "        vertical-align: middle;\n",
       "    }\n",
       "\n",
       "    .dataframe tbody tr th {\n",
       "        vertical-align: top;\n",
       "    }\n",
       "\n",
       "    .dataframe thead th {\n",
       "        text-align: right;\n",
       "    }\n",
       "</style>\n",
       "<table border=\"1\" class=\"dataframe\">\n",
       "  <thead>\n",
       "    <tr style=\"text-align: right;\">\n",
       "      <th></th>\n",
       "      <th>id</th>\n",
       "      <th>limit</th>\n",
       "      <th>cost</th>\n",
       "    </tr>\n",
       "  </thead>\n",
       "  <tbody>\n",
       "    <tr>\n",
       "      <th>0</th>\n",
       "      <td>0</td>\n",
       "      <td>20</td>\n",
       "      <td>0.10</td>\n",
       "    </tr>\n",
       "    <tr>\n",
       "      <th>1</th>\n",
       "      <td>1</td>\n",
       "      <td>10</td>\n",
       "      <td>0.05</td>\n",
       "    </tr>\n",
       "    <tr>\n",
       "      <th>2</th>\n",
       "      <td>2</td>\n",
       "      <td>40</td>\n",
       "      <td>0.30</td>\n",
       "    </tr>\n",
       "    <tr>\n",
       "      <th>3</th>\n",
       "      <td>3</td>\n",
       "      <td>50</td>\n",
       "      <td>0.40</td>\n",
       "    </tr>\n",
       "    <tr>\n",
       "      <th>4</th>\n",
       "      <td>4</td>\n",
       "      <td>5</td>\n",
       "      <td>0.01</td>\n",
       "    </tr>\n",
       "  </tbody>\n",
       "</table>\n",
       "</div>"
      ],
      "text/plain": [
       "   id  limit  cost\n",
       "0   0     20  0.10\n",
       "1   1     10  0.05\n",
       "2   2     40  0.30\n",
       "3   3     50  0.40\n",
       "4   4      5  0.01"
      ]
     },
     "execution_count": 8,
     "metadata": {},
     "output_type": "execute_result"
    }
   ],
   "source": [
    "datagen"
   ]
  },
  {
   "cell_type": "code",
   "execution_count": 5,
   "id": "31826d02",
   "metadata": {},
   "outputs": [],
   "source": [
    "dataload = pd.read_excel(\"power_generation.xlsx\", sheet_name=\"load\")"
   ]
  },
  {
   "cell_type": "code",
   "execution_count": 6,
   "id": "c0716388",
   "metadata": {},
   "outputs": [
    {
     "data": {
      "text/html": [
       "<div>\n",
       "<style scoped>\n",
       "    .dataframe tbody tr th:only-of-type {\n",
       "        vertical-align: middle;\n",
       "    }\n",
       "\n",
       "    .dataframe tbody tr th {\n",
       "        vertical-align: top;\n",
       "    }\n",
       "\n",
       "    .dataframe thead th {\n",
       "        text-align: right;\n",
       "    }\n",
       "</style>\n",
       "<table border=\"1\" class=\"dataframe\">\n",
       "  <thead>\n",
       "    <tr style=\"text-align: right;\">\n",
       "      <th></th>\n",
       "      <th>id</th>\n",
       "      <th>value</th>\n",
       "    </tr>\n",
       "  </thead>\n",
       "  <tbody>\n",
       "    <tr>\n",
       "      <th>0</th>\n",
       "      <td>0</td>\n",
       "      <td>50</td>\n",
       "    </tr>\n",
       "    <tr>\n",
       "      <th>1</th>\n",
       "      <td>1</td>\n",
       "      <td>20</td>\n",
       "    </tr>\n",
       "    <tr>\n",
       "      <th>2</th>\n",
       "      <td>2</td>\n",
       "      <td>30</td>\n",
       "    </tr>\n",
       "  </tbody>\n",
       "</table>\n",
       "</div>"
      ],
      "text/plain": [
       "   id  value\n",
       "0   0     50\n",
       "1   1     20\n",
       "2   2     30"
      ]
     },
     "execution_count": 6,
     "metadata": {},
     "output_type": "execute_result"
    }
   ],
   "source": [
    "dataload"
   ]
  },
  {
   "cell_type": "code",
   "execution_count": null,
   "id": "0f2578b7",
   "metadata": {},
   "outputs": [],
   "source": []
  },
  {
   "cell_type": "code",
   "execution_count": 16,
   "id": "0b04173b",
   "metadata": {},
   "outputs": [],
   "source": [
    "Ng = len(datagen)"
   ]
  },
  {
   "cell_type": "code",
   "execution_count": 17,
   "id": "f8518dd4",
   "metadata": {},
   "outputs": [],
   "source": [
    "model = pyo.ConcreteModel()"
   ]
  },
  {
   "cell_type": "code",
   "execution_count": 18,
   "id": "3c711122",
   "metadata": {},
   "outputs": [],
   "source": [
    "model.Pg = pyo.Var(bounds= (0,None))"
   ]
  },
  {
   "cell_type": "code",
   "execution_count": 19,
   "id": "a9b63747",
   "metadata": {},
   "outputs": [
    {
     "name": "stdout",
     "output_type": "stream",
     "text": [
      "1 Var Declarations\n",
      "    Pg : Size=1, Index=None\n",
      "        Key  : Lower : Value : Upper : Fixed : Stale : Domain\n",
      "        None :     0 :  None :  None : False :  True :  Reals\n",
      "\n",
      "1 Declarations: Pg\n"
     ]
    }
   ],
   "source": [
    "model.pprint()"
   ]
  },
  {
   "cell_type": "code",
   "execution_count": 20,
   "id": "ce6c77ca",
   "metadata": {},
   "outputs": [
    {
     "name": "stdout",
     "output_type": "stream",
     "text": [
      "WARNING: Implicitly replacing the Component attribute Pg (type=<class\n",
      "'pyomo.core.base.var.ScalarVar'>) on block unknown with a new Component\n",
      "(type=<class 'pyomo.core.base.var.IndexedVar'>). This is usually indicative of\n",
      "a modelling error. To avoid this warning, use block.del_component() and\n",
      "block.add_component().\n"
     ]
    }
   ],
   "source": [
    "model.Pg = pyo.Var(range(Ng),bounds= (0,None))"
   ]
  },
  {
   "cell_type": "code",
   "execution_count": 21,
   "id": "1d23f9f6",
   "metadata": {},
   "outputs": [
    {
     "name": "stdout",
     "output_type": "stream",
     "text": [
      "1 Set Declarations\n",
      "    Pg_index : Size=1, Index=None, Ordered=Insertion\n",
      "        Key  : Dimen : Domain : Size : Members\n",
      "        None :     1 :    Any :    5 : {0, 1, 2, 3, 4}\n",
      "\n",
      "1 Var Declarations\n",
      "    Pg : Size=5, Index=Pg_index\n",
      "        Key : Lower : Value : Upper : Fixed : Stale : Domain\n",
      "          0 :     0 :  None :  None : False :  True :  Reals\n",
      "          1 :     0 :  None :  None : False :  True :  Reals\n",
      "          2 :     0 :  None :  None : False :  True :  Reals\n",
      "          3 :     0 :  None :  None : False :  True :  Reals\n",
      "          4 :     0 :  None :  None : False :  True :  Reals\n",
      "\n",
      "2 Declarations: Pg_index Pg\n"
     ]
    }
   ],
   "source": [
    "model.pprint()"
   ]
  },
  {
   "cell_type": "code",
   "execution_count": 22,
   "id": "91cf2b0c",
   "metadata": {},
   "outputs": [],
   "source": [
    "Pg =  model.Pg"
   ]
  },
  {
   "cell_type": "code",
   "execution_count": null,
   "id": "5a533bba",
   "metadata": {},
   "outputs": [],
   "source": []
  },
  {
   "cell_type": "code",
   "execution_count": 23,
   "id": "8aabf896",
   "metadata": {},
   "outputs": [],
   "source": [
    "# constraints"
   ]
  },
  {
   "cell_type": "code",
   "execution_count": 24,
   "id": "34c19b6b",
   "metadata": {},
   "outputs": [],
   "source": [
    "pg_sum = sum([Pg[g] for g in datagen.id])"
   ]
  },
  {
   "cell_type": "code",
   "execution_count": 26,
   "id": "d4908378",
   "metadata": {},
   "outputs": [
    {
     "name": "stdout",
     "output_type": "stream",
     "text": [
      "Pg[0] + Pg[1] + Pg[2] + Pg[3] + Pg[4]\n"
     ]
    }
   ],
   "source": [
    "print(pg_sum)"
   ]
  },
  {
   "cell_type": "code",
   "execution_count": 27,
   "id": "652e712a",
   "metadata": {},
   "outputs": [],
   "source": [
    "model.balance = pyo.Constraint(expr = pg_sum == sum(dataload.value))"
   ]
  },
  {
   "cell_type": "code",
   "execution_count": null,
   "id": "4f8350a6",
   "metadata": {},
   "outputs": [],
   "source": []
  },
  {
   "cell_type": "code",
   "execution_count": 28,
   "id": "83c8c46b",
   "metadata": {},
   "outputs": [],
   "source": [
    "model.cond = pyo.Constraint(expr = Pg[0] + Pg [3] >= dataload.value[0])"
   ]
  },
  {
   "cell_type": "code",
   "execution_count": 30,
   "id": "dd2ab8a9",
   "metadata": {},
   "outputs": [
    {
     "name": "stdout",
     "output_type": "stream",
     "text": [
      "1 Set Declarations\n",
      "    Pg_index : Size=1, Index=None, Ordered=Insertion\n",
      "        Key  : Dimen : Domain : Size : Members\n",
      "        None :     1 :    Any :    5 : {0, 1, 2, 3, 4}\n",
      "\n",
      "1 Var Declarations\n",
      "    Pg : Size=5, Index=Pg_index\n",
      "        Key : Lower : Value : Upper : Fixed : Stale : Domain\n",
      "          0 :     0 :  None :  None : False :  True :  Reals\n",
      "          1 :     0 :  None :  None : False :  True :  Reals\n",
      "          2 :     0 :  None :  None : False :  True :  Reals\n",
      "          3 :     0 :  None :  None : False :  True :  Reals\n",
      "          4 :     0 :  None :  None : False :  True :  Reals\n",
      "\n",
      "2 Constraint Declarations\n",
      "    balance : Size=1, Index=None, Active=True\n",
      "        Key  : Lower : Body                                  : Upper : Active\n",
      "        None : 100.0 : Pg[0] + Pg[1] + Pg[2] + Pg[3] + Pg[4] : 100.0 :   True\n",
      "    cond : Size=1, Index=None, Active=True\n",
      "        Key  : Lower : Body          : Upper : Active\n",
      "        None :  50.0 : Pg[0] + Pg[3] :  +Inf :   True\n",
      "\n",
      "4 Declarations: Pg_index Pg balance cond\n"
     ]
    }
   ],
   "source": [
    "model.pprint()"
   ]
  },
  {
   "cell_type": "code",
   "execution_count": null,
   "id": "d7e5fada",
   "metadata": {},
   "outputs": [],
   "source": []
  },
  {
   "cell_type": "code",
   "execution_count": 31,
   "id": "6191f14b",
   "metadata": {},
   "outputs": [],
   "source": [
    "model.limits = pyo.ConstraintList()"
   ]
  },
  {
   "cell_type": "code",
   "execution_count": 32,
   "id": "c8041503",
   "metadata": {},
   "outputs": [],
   "source": [
    "for g in datagen.id:\n",
    "    model.limits.add(expr = Pg[g] <= datagen.limit[g])"
   ]
  },
  {
   "cell_type": "code",
   "execution_count": 33,
   "id": "cc2612d0",
   "metadata": {},
   "outputs": [
    {
     "name": "stdout",
     "output_type": "stream",
     "text": [
      "2 Set Declarations\n",
      "    Pg_index : Size=1, Index=None, Ordered=Insertion\n",
      "        Key  : Dimen : Domain : Size : Members\n",
      "        None :     1 :    Any :    5 : {0, 1, 2, 3, 4}\n",
      "    limits_index : Size=1, Index=None, Ordered=Insertion\n",
      "        Key  : Dimen : Domain : Size : Members\n",
      "        None :     1 :    Any :    5 : {1, 2, 3, 4, 5}\n",
      "\n",
      "1 Var Declarations\n",
      "    Pg : Size=5, Index=Pg_index\n",
      "        Key : Lower : Value : Upper : Fixed : Stale : Domain\n",
      "          0 :     0 :  None :  None : False :  True :  Reals\n",
      "          1 :     0 :  None :  None : False :  True :  Reals\n",
      "          2 :     0 :  None :  None : False :  True :  Reals\n",
      "          3 :     0 :  None :  None : False :  True :  Reals\n",
      "          4 :     0 :  None :  None : False :  True :  Reals\n",
      "\n",
      "3 Constraint Declarations\n",
      "    balance : Size=1, Index=None, Active=True\n",
      "        Key  : Lower : Body                                  : Upper : Active\n",
      "        None : 100.0 : Pg[0] + Pg[1] + Pg[2] + Pg[3] + Pg[4] : 100.0 :   True\n",
      "    cond : Size=1, Index=None, Active=True\n",
      "        Key  : Lower : Body          : Upper : Active\n",
      "        None :  50.0 : Pg[0] + Pg[3] :  +Inf :   True\n",
      "    limits : Size=5, Index=limits_index, Active=True\n",
      "        Key : Lower : Body  : Upper : Active\n",
      "          1 :  -Inf : Pg[0] :  20.0 :   True\n",
      "          2 :  -Inf : Pg[1] :  10.0 :   True\n",
      "          3 :  -Inf : Pg[2] :  40.0 :   True\n",
      "          4 :  -Inf : Pg[3] :  50.0 :   True\n",
      "          5 :  -Inf : Pg[4] :   5.0 :   True\n",
      "\n",
      "6 Declarations: Pg_index Pg balance cond limits_index limits\n"
     ]
    }
   ],
   "source": [
    "model.pprint()"
   ]
  },
  {
   "cell_type": "code",
   "execution_count": null,
   "id": "6bdb374c",
   "metadata": {},
   "outputs": [],
   "source": []
  },
  {
   "cell_type": "code",
   "execution_count": null,
   "id": "d4360859",
   "metadata": {},
   "outputs": [],
   "source": []
  },
  {
   "cell_type": "code",
   "execution_count": 34,
   "id": "c9afa042",
   "metadata": {},
   "outputs": [],
   "source": [
    "# objective function"
   ]
  },
  {
   "cell_type": "code",
   "execution_count": 35,
   "id": "3983aab6",
   "metadata": {},
   "outputs": [],
   "source": [
    "model.obj = pyo.Objective(expr = sum([Pg[g]*datagen.cost[g] for g in datagen.id]))"
   ]
  },
  {
   "cell_type": "code",
   "execution_count": 36,
   "id": "dd07f341",
   "metadata": {},
   "outputs": [
    {
     "data": {
      "text/plain": [
       "{'Problem': [{'Name': 'unknown', 'Lower bound': 25.05, 'Upper bound': 25.05, 'Number of objectives': 1, 'Number of constraints': 7, 'Number of variables': 5, 'Number of nonzeros': 12, 'Sense': 'minimize'}], 'Solver': [{'Status': 'ok', 'Termination condition': 'optimal', 'Statistics': {'Branch and bound': {'Number of bounded subproblems': 0, 'Number of created subproblems': 0}}, 'Error rc': 0, 'Time': 0.0611116886138916}], 'Solution': [OrderedDict([('number of solutions', 0), ('number of solutions displayed', 0)])]}"
      ]
     },
     "execution_count": 36,
     "metadata": {},
     "output_type": "execute_result"
    }
   ],
   "source": [
    "opt = pyo.SolverFactory('glpk')\n",
    "opt.solve(model) "
   ]
  },
  {
   "cell_type": "code",
   "execution_count": 37,
   "id": "c3a71258",
   "metadata": {},
   "outputs": [
    {
     "name": "stdout",
     "output_type": "stream",
     "text": [
      "2 Set Declarations\n",
      "    Pg_index : Size=1, Index=None, Ordered=Insertion\n",
      "        Key  : Dimen : Domain : Size : Members\n",
      "        None :     1 :    Any :    5 : {0, 1, 2, 3, 4}\n",
      "    limits_index : Size=1, Index=None, Ordered=Insertion\n",
      "        Key  : Dimen : Domain : Size : Members\n",
      "        None :     1 :    Any :    5 : {1, 2, 3, 4, 5}\n",
      "\n",
      "1 Var Declarations\n",
      "    Pg : Size=5, Index=Pg_index\n",
      "        Key : Lower : Value : Upper : Fixed : Stale : Domain\n",
      "          0 :     0 :  20.0 :  None : False : False :  Reals\n",
      "          1 :     0 :  10.0 :  None : False : False :  Reals\n",
      "          2 :     0 :  35.0 :  None : False : False :  Reals\n",
      "          3 :     0 :  30.0 :  None : False : False :  Reals\n",
      "          4 :     0 :   5.0 :  None : False : False :  Reals\n",
      "\n",
      "1 Objective Declarations\n",
      "    obj : Size=1, Index=None, Active=True\n",
      "        Key  : Active : Sense    : Expression\n",
      "        None :   True : minimize : 0.1*Pg[0] + 0.05*Pg[1] + 0.3*Pg[2] + 0.4*Pg[3] + 0.01*Pg[4]\n",
      "\n",
      "3 Constraint Declarations\n",
      "    balance : Size=1, Index=None, Active=True\n",
      "        Key  : Lower : Body                                  : Upper : Active\n",
      "        None : 100.0 : Pg[0] + Pg[1] + Pg[2] + Pg[3] + Pg[4] : 100.0 :   True\n",
      "    cond : Size=1, Index=None, Active=True\n",
      "        Key  : Lower : Body          : Upper : Active\n",
      "        None :  50.0 : Pg[0] + Pg[3] :  +Inf :   True\n",
      "    limits : Size=5, Index=limits_index, Active=True\n",
      "        Key : Lower : Body  : Upper : Active\n",
      "          1 :  -Inf : Pg[0] :  20.0 :   True\n",
      "          2 :  -Inf : Pg[1] :  10.0 :   True\n",
      "          3 :  -Inf : Pg[2] :  40.0 :   True\n",
      "          4 :  -Inf : Pg[3] :  50.0 :   True\n",
      "          5 :  -Inf : Pg[4] :   5.0 :   True\n",
      "\n",
      "7 Declarations: Pg_index Pg balance cond limits_index limits obj\n"
     ]
    }
   ],
   "source": [
    "model.pprint()"
   ]
  },
  {
   "cell_type": "code",
   "execution_count": null,
   "id": "51a1feaf",
   "metadata": {},
   "outputs": [],
   "source": []
  },
  {
   "cell_type": "code",
   "execution_count": 39,
   "id": "20d83bc4",
   "metadata": {},
   "outputs": [
    {
     "data": {
      "text/plain": [
       "[20.0, 10.0, 35.0, 30.0, 5.0]"
      ]
     },
     "execution_count": 39,
     "metadata": {},
     "output_type": "execute_result"
    }
   ],
   "source": [
    "[pyo.value(Pg[g]) for g in datagen.id]"
   ]
  },
  {
   "cell_type": "code",
   "execution_count": 40,
   "id": "56ea1fa3",
   "metadata": {},
   "outputs": [],
   "source": [
    "datagen['Pg'] = [pyo.value(Pg[g]) for g in datagen.id]"
   ]
  },
  {
   "cell_type": "code",
   "execution_count": 41,
   "id": "2190d532",
   "metadata": {},
   "outputs": [
    {
     "data": {
      "text/html": [
       "<div>\n",
       "<style scoped>\n",
       "    .dataframe tbody tr th:only-of-type {\n",
       "        vertical-align: middle;\n",
       "    }\n",
       "\n",
       "    .dataframe tbody tr th {\n",
       "        vertical-align: top;\n",
       "    }\n",
       "\n",
       "    .dataframe thead th {\n",
       "        text-align: right;\n",
       "    }\n",
       "</style>\n",
       "<table border=\"1\" class=\"dataframe\">\n",
       "  <thead>\n",
       "    <tr style=\"text-align: right;\">\n",
       "      <th></th>\n",
       "      <th>id</th>\n",
       "      <th>limit</th>\n",
       "      <th>cost</th>\n",
       "      <th>Pg</th>\n",
       "    </tr>\n",
       "  </thead>\n",
       "  <tbody>\n",
       "    <tr>\n",
       "      <th>0</th>\n",
       "      <td>0</td>\n",
       "      <td>20</td>\n",
       "      <td>0.10</td>\n",
       "      <td>20.0</td>\n",
       "    </tr>\n",
       "    <tr>\n",
       "      <th>1</th>\n",
       "      <td>1</td>\n",
       "      <td>10</td>\n",
       "      <td>0.05</td>\n",
       "      <td>10.0</td>\n",
       "    </tr>\n",
       "    <tr>\n",
       "      <th>2</th>\n",
       "      <td>2</td>\n",
       "      <td>40</td>\n",
       "      <td>0.30</td>\n",
       "      <td>35.0</td>\n",
       "    </tr>\n",
       "    <tr>\n",
       "      <th>3</th>\n",
       "      <td>3</td>\n",
       "      <td>50</td>\n",
       "      <td>0.40</td>\n",
       "      <td>30.0</td>\n",
       "    </tr>\n",
       "    <tr>\n",
       "      <th>4</th>\n",
       "      <td>4</td>\n",
       "      <td>5</td>\n",
       "      <td>0.01</td>\n",
       "      <td>5.0</td>\n",
       "    </tr>\n",
       "  </tbody>\n",
       "</table>\n",
       "</div>"
      ],
      "text/plain": [
       "   id  limit  cost    Pg\n",
       "0   0     20  0.10  20.0\n",
       "1   1     10  0.05  10.0\n",
       "2   2     40  0.30  35.0\n",
       "3   3     50  0.40  30.0\n",
       "4   4      5  0.01   5.0"
      ]
     },
     "execution_count": 41,
     "metadata": {},
     "output_type": "execute_result"
    }
   ],
   "source": [
    "datagen"
   ]
  },
  {
   "cell_type": "code",
   "execution_count": null,
   "id": "d68e8a4e",
   "metadata": {},
   "outputs": [],
   "source": []
  },
  {
   "cell_type": "code",
   "execution_count": null,
   "id": "13656fee",
   "metadata": {},
   "outputs": [],
   "source": []
  },
  {
   "cell_type": "code",
   "execution_count": null,
   "id": "a63718b2",
   "metadata": {},
   "outputs": [],
   "source": []
  },
  {
   "cell_type": "code",
   "execution_count": null,
   "id": "91cc9f67",
   "metadata": {},
   "outputs": [],
   "source": []
  },
  {
   "cell_type": "code",
   "execution_count": null,
   "id": "e5c0c846",
   "metadata": {},
   "outputs": [],
   "source": []
  },
  {
   "cell_type": "code",
   "execution_count": null,
   "id": "0be23614",
   "metadata": {},
   "outputs": [],
   "source": []
  },
  {
   "cell_type": "code",
   "execution_count": null,
   "id": "8af28bbb",
   "metadata": {},
   "outputs": [],
   "source": []
  },
  {
   "cell_type": "code",
   "execution_count": null,
   "id": "3ab78122",
   "metadata": {},
   "outputs": [],
   "source": []
  },
  {
   "cell_type": "code",
   "execution_count": null,
   "id": "00f7895c",
   "metadata": {},
   "outputs": [],
   "source": []
  }
 ],
 "metadata": {
  "kernelspec": {
   "display_name": "Python 3 (ipykernel)",
   "language": "python",
   "name": "python3"
  },
  "language_info": {
   "codemirror_mode": {
    "name": "ipython",
    "version": 3
   },
   "file_extension": ".py",
   "mimetype": "text/x-python",
   "name": "python",
   "nbconvert_exporter": "python",
   "pygments_lexer": "ipython3",
   "version": "3.10.9"
  }
 },
 "nbformat": 4,
 "nbformat_minor": 5
}
