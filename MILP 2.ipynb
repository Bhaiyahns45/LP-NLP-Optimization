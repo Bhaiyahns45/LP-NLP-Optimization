{
 "cells": [
  {
   "cell_type": "code",
   "execution_count": null,
   "id": "91006737",
   "metadata": {},
   "outputs": [],
   "source": []
  },
  {
   "cell_type": "markdown",
   "id": "e5d272f0",
   "metadata": {},
   "source": [
    "## pyomo"
   ]
  },
  {
   "cell_type": "code",
   "execution_count": 2,
   "id": "6a1223ba",
   "metadata": {},
   "outputs": [],
   "source": [
    "import pyomo.environ as pyo\n",
    "from pyomo.environ import *"
   ]
  },
  {
   "cell_type": "code",
   "execution_count": 3,
   "id": "9da4e22d",
   "metadata": {},
   "outputs": [],
   "source": [
    "from pyomo.opt import SolverFactory"
   ]
  },
  {
   "cell_type": "code",
   "execution_count": 6,
   "id": "03274517",
   "metadata": {},
   "outputs": [
    {
     "name": "stdout",
     "output_type": "stream",
     "text": [
      "2 Var Declarations\n",
      "    x : Size=1, Index=None\n",
      "        Key  : Lower : Value : Upper : Fixed : Stale : Domain\n",
      "        None :     0 :   4.2 :    10 : False : False :  Reals\n",
      "    y : Size=1, Index=None\n",
      "        Key  : Lower : Value : Upper : Fixed : Stale : Domain\n",
      "        None :     0 :   5.6 :    10 : False : False :  Reals\n",
      "\n",
      "1 Objective Declarations\n",
      "    obj : Size=1, Index=None, Active=True\n",
      "        Key  : Active : Sense    : Expression\n",
      "        None :   True : maximize : x + y\n",
      "\n",
      "3 Constraint Declarations\n",
      "    C1 : Size=1, Index=None, Active=True\n",
      "        Key  : Lower : Body      : Upper : Active\n",
      "        None :  -Inf : - x + 2*y :   7.0 :   True\n",
      "    C2 : Size=1, Index=None, Active=True\n",
      "        Key  : Lower : Body    : Upper : Active\n",
      "        None :  -Inf : 2*x + y :  14.0 :   True\n",
      "    C3 : Size=1, Index=None, Active=True\n",
      "        Key  : Lower : Body    : Upper : Active\n",
      "        None :  -Inf : 2*x - y :  10.0 :   True\n",
      "\n",
      "6 Declarations: x y C1 C2 C3 obj\n"
     ]
    }
   ],
   "source": [
    "model = pyo.ConcreteModel()\n",
    "\n",
    "model.x = pyo.Var(bounds= (0,10))\n",
    "model.y = pyo.Var(bounds= (0,10))\n",
    "\n",
    "x= model.x\n",
    "y=model.y\n",
    "\n",
    "model.C1 = pyo.Constraint(expr = -x+2*y<=7)\n",
    "model.C2 = pyo.Constraint(expr = 2*x+y<=14)\n",
    "model.C3 = pyo.Constraint(expr = 2*x-y<=10)\n",
    "\n",
    "model.obj = pyo.Objective(expr = x+y, sense = maximize)\n",
    "\n",
    "\n",
    "opt = pyo.SolverFactory('glpk')\n",
    "opt.solve(model) \n",
    "\n",
    "model.pprint()"
   ]
  },
  {
   "cell_type": "code",
   "execution_count": 7,
   "id": "dd21a8bf",
   "metadata": {},
   "outputs": [
    {
     "name": "stdout",
     "output_type": "stream",
     "text": [
      "2 Var Declarations\n",
      "    x : Size=1, Index=None\n",
      "        Key  : Lower : Value : Upper : Fixed : Stale : Domain\n",
      "        None :     0 :   4.0 :    10 : False : False : Integers\n",
      "    y : Size=1, Index=None\n",
      "        Key  : Lower : Value : Upper : Fixed : Stale : Domain\n",
      "        None :     0 :   5.5 :    10 : False : False :  Reals\n",
      "\n",
      "1 Objective Declarations\n",
      "    obj : Size=1, Index=None, Active=True\n",
      "        Key  : Active : Sense    : Expression\n",
      "        None :   True : maximize : x + y\n",
      "\n",
      "3 Constraint Declarations\n",
      "    C1 : Size=1, Index=None, Active=True\n",
      "        Key  : Lower : Body      : Upper : Active\n",
      "        None :  -Inf : - x + 2*y :   7.0 :   True\n",
      "    C2 : Size=1, Index=None, Active=True\n",
      "        Key  : Lower : Body    : Upper : Active\n",
      "        None :  -Inf : 2*x + y :  14.0 :   True\n",
      "    C3 : Size=1, Index=None, Active=True\n",
      "        Key  : Lower : Body    : Upper : Active\n",
      "        None :  -Inf : 2*x - y :  10.0 :   True\n",
      "\n",
      "6 Declarations: x y C1 C2 C3 obj\n"
     ]
    }
   ],
   "source": [
    "model = pyo.ConcreteModel()\n",
    "\n",
    "model.x = pyo.Var(within = Integers,   bounds= (0,10))\n",
    "model.y = pyo.Var(bounds= (0,10))\n",
    "\n",
    "x= model.x\n",
    "y=model.y\n",
    "\n",
    "model.C1 = pyo.Constraint(expr = -x+2*y<=7)\n",
    "model.C2 = pyo.Constraint(expr = 2*x+y<=14)\n",
    "model.C3 = pyo.Constraint(expr = 2*x-y<=10)\n",
    "\n",
    "model.obj = pyo.Objective(expr = x+y, sense = maximize)\n",
    "\n",
    "\n",
    "opt = pyo.SolverFactory('glpk')\n",
    "opt.solve(model)\n",
    "\n",
    "model.pprint()"
   ]
  },
  {
   "cell_type": "code",
   "execution_count": null,
   "id": "185056dc",
   "metadata": {},
   "outputs": [],
   "source": []
  },
  {
   "cell_type": "markdown",
   "id": "ff09ca32",
   "metadata": {},
   "source": [
    "## ortools"
   ]
  },
  {
   "cell_type": "code",
   "execution_count": 14,
   "id": "77273461",
   "metadata": {},
   "outputs": [
    {
     "data": {
      "text/plain": [
       "(4.2, 5.6)"
      ]
     },
     "execution_count": 14,
     "metadata": {},
     "output_type": "execute_result"
    }
   ],
   "source": [
    "from ortools.linear_solver import pywraplp\n",
    "\n",
    "solver = pywraplp.Solver.CreateSolver(\"GLOP\")\n",
    "\n",
    "x= solver.NumVar(0,10,'x')\n",
    "y= solver.NumVar(0,10,'y')\n",
    "\n",
    "solver.Add(-x+2*y<=7)\n",
    "solver.Add(2*x+y<=14)\n",
    "solver.Add(2*x-y<=10)\n",
    "\n",
    "solver.Maximize(x+y)\n",
    "\n",
    "result =  solver.Solve()\n",
    "\n",
    "x.solution_value(), y.solution_value()"
   ]
  },
  {
   "cell_type": "code",
   "execution_count": 15,
   "id": "fb245186",
   "metadata": {},
   "outputs": [
    {
     "data": {
      "text/plain": [
       "(4.2, 5.6)"
      ]
     },
     "execution_count": 15,
     "metadata": {},
     "output_type": "execute_result"
    }
   ],
   "source": [
    "from ortools.linear_solver import pywraplp\n",
    "\n",
    "solver = pywraplp.Solver.CreateSolver(\"GLOP\")\n",
    "\n",
    "x= solver.IntVar(0,10,'x')\n",
    "y= solver.NumVar(0,10,'y')\n",
    "\n",
    "solver.Add(-x+2*y<=7)\n",
    "solver.Add(2*x+y<=14)\n",
    "solver.Add(2*x-y<=10)\n",
    "\n",
    "solver.Maximize(x+y)\n",
    "\n",
    "result =  solver.Solve()\n",
    "\n",
    "x.solution_value(), y.solution_value()"
   ]
  },
  {
   "cell_type": "code",
   "execution_count": null,
   "id": "9edcd95f",
   "metadata": {},
   "outputs": [],
   "source": []
  },
  {
   "cell_type": "code",
   "execution_count": null,
   "id": "66bb1a83",
   "metadata": {},
   "outputs": [],
   "source": []
  },
  {
   "cell_type": "code",
   "execution_count": 17,
   "id": "1a3f2fe3",
   "metadata": {},
   "outputs": [],
   "source": [
    "## CBC"
   ]
  },
  {
   "cell_type": "markdown",
   "id": "6a5a461d",
   "metadata": {},
   "source": [
    "The COIN-OR Branch and Cut solver (CBC) is an open-source mixed-integer program (MIP) solver written in C++. \n",
    "\n",
    "CBC is intended to be used primarily as a callable library to create customized branch-and-cut solvers. \n",
    "\n",
    "A basic, stand-alone executable version is also available."
   ]
  },
  {
   "cell_type": "code",
   "execution_count": 16,
   "id": "93dce4cb",
   "metadata": {},
   "outputs": [
    {
     "data": {
      "text/plain": [
       "(4.0, 5.5)"
      ]
     },
     "execution_count": 16,
     "metadata": {},
     "output_type": "execute_result"
    }
   ],
   "source": [
    "from ortools.linear_solver import pywraplp\n",
    "\n",
    "solver = pywraplp.Solver.CreateSolver(\"CBC\")\n",
    "\n",
    "x= solver.IntVar(0,10,'x')\n",
    "y= solver.NumVar(0,10,'y')\n",
    "\n",
    "solver.Add(-x+2*y<=7)\n",
    "solver.Add(2*x+y<=14)\n",
    "solver.Add(2*x-y<=10)\n",
    "\n",
    "solver.Maximize(x+y)\n",
    "\n",
    "result =  solver.Solve()\n",
    "\n",
    "x.solution_value(), y.solution_value()"
   ]
  },
  {
   "cell_type": "code",
   "execution_count": null,
   "id": "b5442e4f",
   "metadata": {},
   "outputs": [],
   "source": []
  },
  {
   "cell_type": "code",
   "execution_count": null,
   "id": "714c1785",
   "metadata": {},
   "outputs": [],
   "source": []
  },
  {
   "cell_type": "markdown",
   "id": "7db4ba69",
   "metadata": {},
   "source": [
    "## scip"
   ]
  },
  {
   "cell_type": "markdown",
   "id": "81e4053b",
   "metadata": {},
   "source": [
    "SCIP is currently one of the fastest non-commercial solvers for mixed integer programming (MIP) and \n",
    "mixed integer nonlinear programming (MINLP)."
   ]
  },
  {
   "cell_type": "code",
   "execution_count": null,
   "id": "f3afd813",
   "metadata": {},
   "outputs": [],
   "source": []
  },
  {
   "cell_type": "code",
   "execution_count": 20,
   "id": "42f9bc28",
   "metadata": {},
   "outputs": [
    {
     "data": {
      "text/plain": [
       "(4.0, 5.5)"
      ]
     },
     "execution_count": 20,
     "metadata": {},
     "output_type": "execute_result"
    }
   ],
   "source": [
    "from pyscipopt import Model\n",
    "\n",
    "model = Model('example')\n",
    "\n",
    "x= model.addVar('x', vtype = \"INTEGER\")\n",
    "y= model.addVar('y')\n",
    "\n",
    "model.setObjective(x+y, sense = 'maximize')\n",
    "\n",
    "model.addCons(-x+2*y<=7)\n",
    "model.addCons(2*x+y<=14)\n",
    "model.addCons(2*x-y<=10)\n",
    "model.optimize()\n",
    "\n",
    "sol = model.getBestSol()\n",
    "\n",
    "sol[x], sol[y]"
   ]
  },
  {
   "cell_type": "code",
   "execution_count": null,
   "id": "8851827f",
   "metadata": {},
   "outputs": [],
   "source": []
  }
 ],
 "metadata": {
  "kernelspec": {
   "display_name": "Python 3 (ipykernel)",
   "language": "python",
   "name": "python3"
  },
  "language_info": {
   "codemirror_mode": {
    "name": "ipython",
    "version": 3
   },
   "file_extension": ".py",
   "mimetype": "text/x-python",
   "name": "python",
   "nbconvert_exporter": "python",
   "pygments_lexer": "ipython3",
   "version": "3.10.9"
  }
 },
 "nbformat": 4,
 "nbformat_minor": 5
}
