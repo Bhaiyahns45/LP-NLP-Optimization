{
 "cells": [
  {
   "cell_type": "code",
   "execution_count": 1,
   "id": "342a0d95",
   "metadata": {},
   "outputs": [],
   "source": [
    "import pyomo.environ as pyo\n",
    "from pyomo.environ import *\n",
    "from pyomo.opt import SolverFactory"
   ]
  },
  {
   "cell_type": "code",
   "execution_count": null,
   "id": "6a43286a",
   "metadata": {},
   "outputs": [],
   "source": []
  },
  {
   "cell_type": "code",
   "execution_count": 2,
   "id": "230473bd",
   "metadata": {},
   "outputs": [],
   "source": [
    "model = pyo.ConcreteModel()"
   ]
  },
  {
   "cell_type": "code",
   "execution_count": 3,
   "id": "43e8cfdb",
   "metadata": {},
   "outputs": [],
   "source": [
    "model.x = pyo.Var(bounds= (0,10))\n",
    "model.y = pyo.Var(bounds= (0,10))"
   ]
  },
  {
   "cell_type": "code",
   "execution_count": 4,
   "id": "6665d1e1",
   "metadata": {},
   "outputs": [],
   "source": [
    "x = model.x\n",
    "y = model.y"
   ]
  },
  {
   "cell_type": "code",
   "execution_count": 5,
   "id": "141f7111",
   "metadata": {},
   "outputs": [],
   "source": [
    "model.C1 = pyo.Constraint(expr = -x+2*y<=8)\n",
    "model.C2 = pyo.Constraint(expr = 2*x+y<=14)\n",
    "model.C3 = pyo.Constraint(expr = 2*x-y<=10)"
   ]
  },
  {
   "cell_type": "code",
   "execution_count": 6,
   "id": "79c0e630",
   "metadata": {},
   "outputs": [],
   "source": [
    "model.obj = pyo.Objective(expr = x+y, sense = maximize)"
   ]
  },
  {
   "cell_type": "code",
   "execution_count": 7,
   "id": "87e1b090",
   "metadata": {},
   "outputs": [
    {
     "data": {
      "text/plain": [
       "{'Problem': [{'Name': 'unknown', 'Lower bound': 10.0, 'Upper bound': 10.0, 'Number of objectives': 1, 'Number of constraints': 3, 'Number of variables': 2, 'Number of nonzeros': 6, 'Sense': 'maximize'}], 'Solver': [{'Status': 'ok', 'Termination condition': 'optimal', 'Statistics': {'Branch and bound': {'Number of bounded subproblems': 0, 'Number of created subproblems': 0}}, 'Error rc': 0, 'Time': 0.04259896278381348}], 'Solution': [OrderedDict([('number of solutions', 0), ('number of solutions displayed', 0)])]}"
      ]
     },
     "execution_count": 7,
     "metadata": {},
     "output_type": "execute_result"
    }
   ],
   "source": [
    "opt = pyo.SolverFactory('glpk')\n",
    "opt.solve(model) "
   ]
  },
  {
   "cell_type": "code",
   "execution_count": 8,
   "id": "b9c3edb9",
   "metadata": {},
   "outputs": [
    {
     "name": "stdout",
     "output_type": "stream",
     "text": [
      "2 Var Declarations\n",
      "    x : Size=1, Index=None\n",
      "        Key  : Lower : Value : Upper : Fixed : Stale : Domain\n",
      "        None :     0 :   4.0 :    10 : False : False :  Reals\n",
      "    y : Size=1, Index=None\n",
      "        Key  : Lower : Value : Upper : Fixed : Stale : Domain\n",
      "        None :     0 :   6.0 :    10 : False : False :  Reals\n",
      "\n",
      "1 Objective Declarations\n",
      "    obj : Size=1, Index=None, Active=True\n",
      "        Key  : Active : Sense    : Expression\n",
      "        None :   True : maximize : x + y\n",
      "\n",
      "3 Constraint Declarations\n",
      "    C1 : Size=1, Index=None, Active=True\n",
      "        Key  : Lower : Body      : Upper : Active\n",
      "        None :  -Inf : - x + 2*y :   8.0 :   True\n",
      "    C2 : Size=1, Index=None, Active=True\n",
      "        Key  : Lower : Body    : Upper : Active\n",
      "        None :  -Inf : 2*x + y :  14.0 :   True\n",
      "    C3 : Size=1, Index=None, Active=True\n",
      "        Key  : Lower : Body    : Upper : Active\n",
      "        None :  -Inf : 2*x - y :  10.0 :   True\n",
      "\n",
      "6 Declarations: x y C1 C2 C3 obj\n"
     ]
    }
   ],
   "source": [
    "model.pprint()"
   ]
  },
  {
   "cell_type": "code",
   "execution_count": null,
   "id": "0eac0766",
   "metadata": {},
   "outputs": [],
   "source": []
  },
  {
   "cell_type": "code",
   "execution_count": 9,
   "id": "d163779a",
   "metadata": {},
   "outputs": [
    {
     "data": {
      "text/plain": [
       "(4.0, 6.0)"
      ]
     },
     "execution_count": 9,
     "metadata": {},
     "output_type": "execute_result"
    }
   ],
   "source": [
    "pyo.value(x), pyo.value(y)"
   ]
  },
  {
   "cell_type": "code",
   "execution_count": 10,
   "id": "58a0a3f0",
   "metadata": {},
   "outputs": [],
   "source": [
    "# we can see both the value is integer"
   ]
  },
  {
   "cell_type": "code",
   "execution_count": null,
   "id": "7525deaf",
   "metadata": {},
   "outputs": [],
   "source": []
  },
  {
   "cell_type": "code",
   "execution_count": 11,
   "id": "4fba7099",
   "metadata": {},
   "outputs": [],
   "source": [
    "# now let change model.C1 = pyo.Constraint(expr = -x+2*y<=8) to model.C1 = pyo.Constraint(expr = -x+2*y<=7)"
   ]
  },
  {
   "cell_type": "code",
   "execution_count": 12,
   "id": "acb49671",
   "metadata": {},
   "outputs": [
    {
     "data": {
      "text/plain": [
       "{'Problem': [{'Name': 'unknown', 'Lower bound': 9.8, 'Upper bound': 9.8, 'Number of objectives': 1, 'Number of constraints': 3, 'Number of variables': 2, 'Number of nonzeros': 6, 'Sense': 'maximize'}], 'Solver': [{'Status': 'ok', 'Termination condition': 'optimal', 'Statistics': {'Branch and bound': {'Number of bounded subproblems': 0, 'Number of created subproblems': 0}}, 'Error rc': 0, 'Time': 0.042983055114746094}], 'Solution': [OrderedDict([('number of solutions', 0), ('number of solutions displayed', 0)])]}"
      ]
     },
     "execution_count": 12,
     "metadata": {},
     "output_type": "execute_result"
    }
   ],
   "source": [
    "model = pyo.ConcreteModel()\n",
    "\n",
    "model.x = pyo.Var(bounds= (0,10))\n",
    "model.y = pyo.Var(bounds= (0,10))\n",
    "\n",
    "x = model.x\n",
    "y = model.y\n",
    "\n",
    "\n",
    "model.C1 = pyo.Constraint(expr = -x+2*y<=7)\n",
    "model.C2 = pyo.Constraint(expr = 2*x+y<=14)\n",
    "model.C3 = pyo.Constraint(expr = 2*x-y<=10)\n",
    "\n",
    "model.obj = pyo.Objective(expr = x+y, sense = maximize)\n",
    "\n",
    "\n",
    "opt = pyo.SolverFactory('glpk')\n",
    "opt.solve(model) \n",
    "\n"
   ]
  },
  {
   "cell_type": "code",
   "execution_count": 13,
   "id": "75c024dd",
   "metadata": {},
   "outputs": [
    {
     "data": {
      "text/plain": [
       "(4.2, 5.6)"
      ]
     },
     "execution_count": 13,
     "metadata": {},
     "output_type": "execute_result"
    }
   ],
   "source": [
    "pyo.value(x), pyo.value(y)"
   ]
  },
  {
   "cell_type": "code",
   "execution_count": 14,
   "id": "8beebec6",
   "metadata": {},
   "outputs": [],
   "source": [
    "# u can see the value in not integer, but if u want that x to be integer u can do that"
   ]
  },
  {
   "cell_type": "code",
   "execution_count": null,
   "id": "0a41c7e4",
   "metadata": {},
   "outputs": [],
   "source": []
  },
  {
   "cell_type": "code",
   "execution_count": 15,
   "id": "8fa4dc65",
   "metadata": {},
   "outputs": [
    {
     "data": {
      "text/plain": [
       "{'Problem': [{'Name': 'unknown', 'Lower bound': 9.5, 'Upper bound': 9.5, 'Number of objectives': 1, 'Number of constraints': 3, 'Number of variables': 2, 'Number of nonzeros': 6, 'Sense': 'maximize'}], 'Solver': [{'Status': 'ok', 'Termination condition': 'optimal', 'Statistics': {'Branch and bound': {'Number of bounded subproblems': '3', 'Number of created subproblems': '3'}}, 'Error rc': 0, 'Time': 0.05731606483459473}], 'Solution': [OrderedDict([('number of solutions', 0), ('number of solutions displayed', 0)])]}"
      ]
     },
     "execution_count": 15,
     "metadata": {},
     "output_type": "execute_result"
    }
   ],
   "source": [
    "model = pyo.ConcreteModel()\n",
    "\n",
    "model.x = pyo.Var(within = Integers, bounds= (0,10))\n",
    "model.y = pyo.Var(bounds= (0,10))\n",
    "\n",
    "x = model.x\n",
    "y = model.y\n",
    "\n",
    "\n",
    "model.C1 = pyo.Constraint(expr = -x+2*y<=7)\n",
    "model.C2 = pyo.Constraint(expr = 2*x+y<=14)\n",
    "model.C3 = pyo.Constraint(expr = 2*x-y<=10)\n",
    "\n",
    "model.obj = pyo.Objective(expr = x+y, sense = maximize)\n",
    "\n",
    "\n",
    "opt = pyo.SolverFactory('glpk')\n",
    "opt.solve(model) \n"
   ]
  },
  {
   "cell_type": "code",
   "execution_count": 16,
   "id": "12f27993",
   "metadata": {},
   "outputs": [
    {
     "data": {
      "text/plain": [
       "(4.0, 5.5)"
      ]
     },
     "execution_count": 16,
     "metadata": {},
     "output_type": "execute_result"
    }
   ],
   "source": [
    "pyo.value(x), pyo.value(y)"
   ]
  },
  {
   "cell_type": "code",
   "execution_count": 17,
   "id": "51b388fe",
   "metadata": {},
   "outputs": [],
   "source": [
    "# now x is an ineteger"
   ]
  },
  {
   "cell_type": "code",
   "execution_count": 18,
   "id": "32164adc",
   "metadata": {},
   "outputs": [
    {
     "name": "stdout",
     "output_type": "stream",
     "text": [
      "x : Size=1, Index=None\n",
      "    Key  : Lower : Value : Upper : Fixed : Stale : Domain\n",
      "    None :     0 :   4.0 :    10 : False : False : Integers\n"
     ]
    }
   ],
   "source": [
    "model.x.pprint()"
   ]
  },
  {
   "cell_type": "code",
   "execution_count": 19,
   "id": "cfae9d7c",
   "metadata": {},
   "outputs": [
    {
     "name": "stdout",
     "output_type": "stream",
     "text": [
      "y : Size=1, Index=None\n",
      "    Key  : Lower : Value : Upper : Fixed : Stale : Domain\n",
      "    None :     0 :   5.5 :    10 : False : False :  Reals\n"
     ]
    }
   ],
   "source": [
    "model.y.pprint()"
   ]
  },
  {
   "cell_type": "code",
   "execution_count": null,
   "id": "c18074a8",
   "metadata": {},
   "outputs": [],
   "source": []
  },
  {
   "cell_type": "code",
   "execution_count": 20,
   "id": "0b23e925",
   "metadata": {},
   "outputs": [],
   "source": [
    "# using or-tools, GLOP solver in or-tools doesn't support MLIP, so to slove MLIP use another solver line CBC, Gurobi, Cplex"
   ]
  },
  {
   "cell_type": "code",
   "execution_count": null,
   "id": "b7e39792",
   "metadata": {},
   "outputs": [],
   "source": [
    "x= solver.NumVar(0,10,'x') -> x= solver.Intvar(0,10,'x')"
   ]
  },
  {
   "cell_type": "code",
   "execution_count": null,
   "id": "0122b0be",
   "metadata": {},
   "outputs": [],
   "source": []
  },
  {
   "cell_type": "code",
   "execution_count": 23,
   "id": "35a85f8c",
   "metadata": {},
   "outputs": [],
   "source": [
    "# using SCIP ( it is very complex to choose other solver in SCIP )"
   ]
  },
  {
   "cell_type": "code",
   "execution_count": null,
   "id": "6fabe585",
   "metadata": {},
   "outputs": [],
   "source": [
    "x= model.addVar('x') -> x= model.addVar('x', vtype= \"INTEGER\")"
   ]
  },
  {
   "cell_type": "code",
   "execution_count": null,
   "id": "f358d817",
   "metadata": {},
   "outputs": [],
   "source": []
  },
  {
   "cell_type": "code",
   "execution_count": null,
   "id": "edfa7788",
   "metadata": {},
   "outputs": [],
   "source": []
  },
  {
   "cell_type": "code",
   "execution_count": null,
   "id": "784c2938",
   "metadata": {},
   "outputs": [],
   "source": []
  },
  {
   "cell_type": "code",
   "execution_count": null,
   "id": "9e8b7ad4",
   "metadata": {},
   "outputs": [],
   "source": []
  },
  {
   "cell_type": "code",
   "execution_count": null,
   "id": "b24721fd",
   "metadata": {},
   "outputs": [],
   "source": []
  }
 ],
 "metadata": {
  "kernelspec": {
   "display_name": "Python 3 (ipykernel)",
   "language": "python",
   "name": "python3"
  },
  "language_info": {
   "codemirror_mode": {
    "name": "ipython",
    "version": 3
   },
   "file_extension": ".py",
   "mimetype": "text/x-python",
   "name": "python",
   "nbconvert_exporter": "python",
   "pygments_lexer": "ipython3",
   "version": "3.10.9"
  }
 },
 "nbformat": 4,
 "nbformat_minor": 5
}
