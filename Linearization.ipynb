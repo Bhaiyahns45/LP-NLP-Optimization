{
 "cells": [
  {
   "cell_type": "code",
   "execution_count": 26,
   "id": "4dc2a4d3",
   "metadata": {},
   "outputs": [],
   "source": [
    "import pyomo.environ as pyo\n",
    "from pyomo.environ import *\n",
    "from pyomo.opt import SolverFactory"
   ]
  },
  {
   "cell_type": "code",
   "execution_count": 27,
   "id": "6f0628f4",
   "metadata": {},
   "outputs": [],
   "source": [
    "model = pyo.ConcreteModel()"
   ]
  },
  {
   "cell_type": "code",
   "execution_count": 28,
   "id": "e339fa6b",
   "metadata": {},
   "outputs": [],
   "source": [
    "model.C = pyo.Var(range(1,4))\n",
    "model.n = pyo.Var(range(1, 4), within=Integers, bounds=(0, 1000))\n",
    "model.b = pyo.Var(within= Binary)"
   ]
  },
  {
   "cell_type": "code",
   "execution_count": 29,
   "id": "e33aca40",
   "metadata": {},
   "outputs": [],
   "source": [
    "C = model.C\n",
    "n = model.n\n",
    "b = model.b"
   ]
  },
  {
   "cell_type": "code",
   "execution_count": 30,
   "id": "6e053b5b",
   "metadata": {},
   "outputs": [],
   "source": [
    "\n",
    "model.bj = pyo.Objective(expr = pyo.summation(C))\n"
   ]
  },
  {
   "cell_type": "code",
   "execution_count": 31,
   "id": "d32fccbf",
   "metadata": {},
   "outputs": [],
   "source": [
    "model.total = pyo.Constraint(expr = pyo.summation(n) == 2100)\n",
    "\n",
    "model.C1 = pyo.Constraint(expr = C[1] == 2*n[1])\n",
    "\n",
    "model.C2 = pyo.Constraint(expr = C[2] == b*6*n[2] + 1000)\n",
    "model.C2n = pyo.Constraint(expr = n[2] <= b*1000)\n",
    "\n",
    "model.C3 = pyo.Constraint(expr = C[3] == 7*n[3])\n"
   ]
  },
  {
   "cell_type": "code",
   "execution_count": 32,
   "id": "3376d1b3",
   "metadata": {},
   "outputs": [
    {
     "name": "stdout",
     "output_type": "stream",
     "text": [
      "n : Size=3, Index=n_index\n",
      "    Key : Lower : Value : Upper : Fixed : Stale : Domain\n",
      "      1 :     0 :  None :  1000 : False :  True : Integers\n",
      "      2 :     0 :  None :  1000 : False :  True : Integers\n",
      "      3 :     0 :  None :  1000 : False :  True : Integers\n"
     ]
    }
   ],
   "source": [
    "model.n.pprint()"
   ]
  },
  {
   "cell_type": "code",
   "execution_count": 33,
   "id": "5f828238",
   "metadata": {},
   "outputs": [
    {
     "data": {
      "text/plain": [
       "{'Problem': [{'Lower bound': -inf, 'Upper bound': inf, 'Number of objectives': 1, 'Number of constraints': 5, 'Number of variables': 7, 'Sense': 'unknown'}], 'Solver': [{'Status': 'ok', 'Message': 'Ipopt 3.11.1\\\\x3a Optimal Solution Found', 'Termination condition': 'optimal', 'Id': 0, 'Error rc': 0, 'Time': 0.05305886268615723}], 'Solution': [OrderedDict([('number of solutions', 0), ('number of solutions displayed', 0)])]}"
      ]
     },
     "execution_count": 33,
     "metadata": {},
     "output_type": "execute_result"
    }
   ],
   "source": [
    "opt = pyo.SolverFactory('ipopt')\n",
    "# opt = pyo.SolverFactory('gurobi')\n",
    "# opt = pyo.SolverFactory('glpk') # -> this will give error , to solve using glpk/cbc u have to convert it into linear\n",
    "opt.solve(model)"
   ]
  },
  {
   "cell_type": "code",
   "execution_count": 34,
   "id": "446f9df8",
   "metadata": {},
   "outputs": [
    {
     "name": "stdout",
     "output_type": "stream",
     "text": [
      "n1 =  1000.0\n",
      "n2 =  583.3333333377169\n",
      "n3 =  516.6666566627846\n",
      "ntotal = n[1] + n[2] + n[3] 2099.9999900005014\n"
     ]
    }
   ],
   "source": [
    "print(\"n1 = \", pyo.value(n[1]))\n",
    "print(\"n2 = \", pyo.value(n[2]))\n",
    "print(\"n3 = \", pyo.value(n[3]))\n",
    "\n",
    "print('ntotal =', pyo.summation(n), pyo.value(pyo.summation(n)))"
   ]
  },
  {
   "cell_type": "code",
   "execution_count": 36,
   "id": "8ac62cec",
   "metadata": {},
   "outputs": [
    {
     "name": "stdout",
     "output_type": "stream",
     "text": [
      "C1 =  1000.0\n",
      "C2 =  583.3333333377169\n",
      "C3 =  516.6666566627846\n",
      "Ctotal = C[1] + C[2] + C[3] 8658.333283303347\n"
     ]
    }
   ],
   "source": [
    "print(\"C1 = \", pyo.value(n[1]))\n",
    "print(\"C2 = \", pyo.value(n[2]))\n",
    "print(\"C3 = \", pyo.value(n[3]))\n",
    "\n",
    "print('Ctotal =', pyo.summation(C), pyo.value(pyo.summation(C)))"
   ]
  },
  {
   "cell_type": "code",
   "execution_count": null,
   "id": "2326e941",
   "metadata": {},
   "outputs": [],
   "source": []
  },
  {
   "cell_type": "code",
   "execution_count": null,
   "id": "54ae381b",
   "metadata": {},
   "outputs": [],
   "source": []
  },
  {
   "cell_type": "code",
   "execution_count": 37,
   "id": "b814a176",
   "metadata": {},
   "outputs": [],
   "source": [
    "# doing linearization to solve this problenm usikg linear solver"
   ]
  },
  {
   "cell_type": "code",
   "execution_count": 38,
   "id": "5c0aa63f",
   "metadata": {},
   "outputs": [],
   "source": [
    "model = pyo.ConcreteModel()"
   ]
  },
  {
   "cell_type": "code",
   "execution_count": 39,
   "id": "a8ee408e",
   "metadata": {},
   "outputs": [],
   "source": [
    "model.C = pyo.Var(range(1,4))\n",
    "model.n = pyo.Var(range(1, 4), within=Integers, bounds=(0, 1000))\n",
    "model.b = pyo.Var(within= Binary)"
   ]
  },
  {
   "cell_type": "code",
   "execution_count": 40,
   "id": "a40a4f9d",
   "metadata": {},
   "outputs": [],
   "source": [
    "C = model.C\n",
    "n = model.n\n",
    "b = model.b"
   ]
  },
  {
   "cell_type": "code",
   "execution_count": 41,
   "id": "9ff5e3ff",
   "metadata": {},
   "outputs": [],
   "source": [
    "model.bj = pyo.Objective(expr = pyo.summation(C))"
   ]
  },
  {
   "cell_type": "code",
   "execution_count": null,
   "id": "34ac2f03",
   "metadata": {},
   "outputs": [],
   "source": []
  },
  {
   "cell_type": "code",
   "execution_count": 42,
   "id": "a01c2fdc",
   "metadata": {},
   "outputs": [],
   "source": [
    "M = 100000"
   ]
  },
  {
   "cell_type": "code",
   "execution_count": 43,
   "id": "cafc5b19",
   "metadata": {},
   "outputs": [],
   "source": [
    "model.total = pyo.Constraint(expr = pyo.summation(n) == 2100)\n",
    "\n",
    "model.C1 = pyo.Constraint(expr = C[1] == 2*n[1])\n",
    "\n",
    "model.C2a = pyo.Constraint(expr = -b*M <= C[2])\n",
    "model.C2b = pyo.Constraint(expr = C[2] <= b*M)\n",
    "model.C2c = pyo.Constraint(expr = -(1-b)*M <= C[2] - (6*n[2]+1000))\n",
    "model.C2d = pyo.Constraint(expr = C[2] - (6*n[2]+1000) <= (1-b)*M)\n",
    "\n",
    "model.C2n = pyo.Constraint(expr = n[2] <= b*1000)\n",
    "\n",
    "model.C3 = pyo.Constraint(expr = C[3] == 7*n[3])\n"
   ]
  },
  {
   "cell_type": "code",
   "execution_count": 44,
   "id": "3327febd",
   "metadata": {},
   "outputs": [],
   "source": [
    "opt = pyo.SolverFactory('glpk')"
   ]
  },
  {
   "cell_type": "code",
   "execution_count": 45,
   "id": "71d8e23b",
   "metadata": {},
   "outputs": [
    {
     "data": {
      "text/plain": [
       "{'Problem': [{'Name': 'unknown', 'Lower bound': 9700.0, 'Upper bound': 9700.0, 'Number of objectives': 1, 'Number of constraints': 8, 'Number of variables': 7, 'Number of nonzeros': 19, 'Sense': 'minimize'}], 'Solver': [{'Status': 'ok', 'Termination condition': 'optimal', 'Statistics': {'Branch and bound': {'Number of bounded subproblems': '1', 'Number of created subproblems': '1'}}, 'Error rc': 0, 'Time': 0.0506131649017334}], 'Solution': [OrderedDict([('number of solutions', 0), ('number of solutions displayed', 0)])]}"
      ]
     },
     "execution_count": 45,
     "metadata": {},
     "output_type": "execute_result"
    }
   ],
   "source": [
    "opt.solve(model)"
   ]
  },
  {
   "cell_type": "code",
   "execution_count": 46,
   "id": "b73b5515",
   "metadata": {},
   "outputs": [
    {
     "name": "stdout",
     "output_type": "stream",
     "text": [
      "n1 =  1000.0\n",
      "n2 =  1000.0\n",
      "n3 =  100.0\n",
      "ntotal = n[1] + n[2] + n[3] 2100.0\n"
     ]
    }
   ],
   "source": [
    "print(\"n1 = \", pyo.value(n[1]))\n",
    "print(\"n2 = \", pyo.value(n[2]))\n",
    "print(\"n3 = \", pyo.value(n[3]))\n",
    "\n",
    "print('ntotal =', pyo.summation(n), pyo.value(pyo.summation(n)))"
   ]
  },
  {
   "cell_type": "code",
   "execution_count": 47,
   "id": "ad2d1ea1",
   "metadata": {},
   "outputs": [
    {
     "name": "stdout",
     "output_type": "stream",
     "text": [
      "C1 =  1000.0\n",
      "C2 =  1000.0\n",
      "C3 =  100.0\n",
      "Ctotal = C[1] + C[2] + C[3] 9700.0\n"
     ]
    }
   ],
   "source": [
    "print(\"C1 = \", pyo.value(n[1]))\n",
    "print(\"C2 = \", pyo.value(n[2]))\n",
    "print(\"C3 = \", pyo.value(n[3]))70\n",
    "\n",
    "print('Ctotal =', pyo.summation(C), pyo.value(pyo.summation(C)))"
   ]
  },
  {
   "cell_type": "code",
   "execution_count": null,
   "id": "340f0af3",
   "metadata": {},
   "outputs": [],
   "source": []
  },
  {
   "cell_type": "code",
   "execution_count": null,
   "id": "df3a4e63",
   "metadata": {},
   "outputs": [],
   "source": []
  },
  {
   "cell_type": "code",
   "execution_count": null,
   "id": "582018c9",
   "metadata": {},
   "outputs": [],
   "source": []
  },
  {
   "cell_type": "code",
   "execution_count": null,
   "id": "96f1e8bd",
   "metadata": {},
   "outputs": [],
   "source": []
  }
 ],
 "metadata": {
  "kernelspec": {
   "display_name": "Python 3 (ipykernel)",
   "language": "python",
   "name": "python3"
  },
  "language_info": {
   "codemirror_mode": {
    "name": "ipython",
    "version": 3
   },
   "file_extension": ".py",
   "mimetype": "text/x-python",
   "name": "python",
   "nbconvert_exporter": "python",
   "pygments_lexer": "ipython3",
   "version": "3.10.9"
  }
 },
 "nbformat": 4,
 "nbformat_minor": 5
}
