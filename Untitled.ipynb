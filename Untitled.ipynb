{
 "cells": [
  {
   "cell_type": "code",
   "execution_count": 1,
   "id": "7c5530d3",
   "metadata": {},
   "outputs": [],
   "source": [
    "from scipy.optimize import fsolve"
   ]
  },
  {
   "cell_type": "code",
   "execution_count": 3,
   "id": "5109432d",
   "metadata": {},
   "outputs": [],
   "source": [
    "from scipy.optimize import fsolve\n",
    "import math\n",
    "\n",
    "def equations(p):\n",
    "    x, y = p\n",
    "    return (x+y**2-4, math.exp(x) + x*y - 3)\n",
    "\n",
    "x, y =  fsolve(equations, (1, 1))\n"
   ]
  },
  {
   "cell_type": "code",
   "execution_count": 10,
   "id": "dc767946",
   "metadata": {},
   "outputs": [
    {
     "data": {
      "text/plain": [
       "(0.6203445234801195, 1.8383839306750887)"
      ]
     },
     "execution_count": 10,
     "metadata": {},
     "output_type": "execute_result"
    }
   ],
   "source": [
    "x,y"
   ]
  },
  {
   "cell_type": "code",
   "execution_count": 8,
   "id": "a8d8eb70",
   "metadata": {},
   "outputs": [
    {
     "data": {
      "text/plain": [
       "(4.4508396968012676e-11, -1.0512035686360832e-11)"
      ]
     },
     "execution_count": 8,
     "metadata": {},
     "output_type": "execute_result"
    }
   ],
   "source": [
    "equations((x, y))"
   ]
  },
  {
   "cell_type": "code",
   "execution_count": null,
   "id": "812828b4",
   "metadata": {},
   "outputs": [],
   "source": []
  },
  {
   "cell_type": "code",
   "execution_count": 14,
   "id": "b79bbafe",
   "metadata": {},
   "outputs": [],
   "source": [
    "def ex(x):\n",
    "    \n",
    "    return 2*x**2 - 11*x +5"
   ]
  },
  {
   "cell_type": "code",
   "execution_count": 15,
   "id": "86fdc727",
   "metadata": {},
   "outputs": [
    {
     "data": {
      "text/plain": [
       "array([0.5])"
      ]
     },
     "execution_count": 15,
     "metadata": {},
     "output_type": "execute_result"
    }
   ],
   "source": [
    "fsolve(ex, (1))"
   ]
  },
  {
   "cell_type": "code",
   "execution_count": 16,
   "id": "c88f0218",
   "metadata": {},
   "outputs": [],
   "source": [
    "from scipy.optimize import root"
   ]
  },
  {
   "cell_type": "code",
   "execution_count": 17,
   "id": "fa09143e",
   "metadata": {},
   "outputs": [
    {
     "data": {
      "text/plain": [
       "    fjac: array([[-1.]])\n",
       "     fun: array([0.])\n",
       " message: 'The solution converged.'\n",
       "    nfev: 8\n",
       "     qtf: array([7.36690708e-11])\n",
       "       r: array([9.00000054])\n",
       "  status: 1\n",
       " success: True\n",
       "       x: array([0.5])"
      ]
     },
     "execution_count": 17,
     "metadata": {},
     "output_type": "execute_result"
    }
   ],
   "source": [
    "root(ex, (1))"
   ]
  },
  {
   "cell_type": "code",
   "execution_count": null,
   "id": "fa251557",
   "metadata": {},
   "outputs": [],
   "source": []
  },
  {
   "cell_type": "markdown",
   "id": "d1b5ff23",
   "metadata": {},
   "source": [
    "### minimization problem"
   ]
  },
  {
   "cell_type": "markdown",
   "id": "693e957f",
   "metadata": {},
   "source": [
    "objective - min x1*x4(x1+x2+x3)+x3\n",
    "\n",
    "constraint - x1*x2*x3*x4 >= 25\n",
    "\n",
    "x1**2 + x2**2 + x3**2 + x4**2 = 40\n",
    "\n",
    "1<= x1,x2,x3,x4 <= 5\n",
    "\n",
    "x0 = (1,5,5,1)\n"
   ]
  },
  {
   "cell_type": "code",
   "execution_count": 57,
   "id": "a9d79c85",
   "metadata": {},
   "outputs": [],
   "source": [
    "import numpy as np\n",
    "from scipy.optimize import minimize"
   ]
  },
  {
   "cell_type": "code",
   "execution_count": 58,
   "id": "2599148b",
   "metadata": {},
   "outputs": [],
   "source": [
    "def objective(x):\n",
    "    x1=x[0]\n",
    "    x2=x[1]\n",
    "    x3=x[2]\n",
    "    x4=x[3]\n",
    "    \n",
    "    return x1*x4* (x1+x2+x3) + x3"
   ]
  },
  {
   "cell_type": "code",
   "execution_count": 71,
   "id": "bea05550",
   "metadata": {},
   "outputs": [],
   "source": [
    "def constraint1(x):\n",
    "    \n",
    "    return x[0] * x[1] * x[2] * x[3] - 25.0\n",
    "\n",
    "def constraint2(x):\n",
    "    \n",
    "    sum_sq = 40\n",
    "    \n",
    "    for i in range(len(x)):\n",
    "        sum_sq = sum_sq - x[i] **2\n",
    "        \n",
    "    return sum_sq"
   ]
  },
  {
   "cell_type": "code",
   "execution_count": 72,
   "id": "967341e2",
   "metadata": {},
   "outputs": [],
   "source": [
    "x0=[1,5,5,1]"
   ]
  },
  {
   "cell_type": "code",
   "execution_count": 73,
   "id": "dda2c8cb",
   "metadata": {},
   "outputs": [
    {
     "data": {
      "text/plain": [
       "16"
      ]
     },
     "execution_count": 73,
     "metadata": {},
     "output_type": "execute_result"
    }
   ],
   "source": [
    "objective(x0)"
   ]
  },
  {
   "cell_type": "code",
   "execution_count": 74,
   "id": "9676249f",
   "metadata": {},
   "outputs": [
    {
     "data": {
      "text/plain": [
       "0.0"
      ]
     },
     "execution_count": 74,
     "metadata": {},
     "output_type": "execute_result"
    }
   ],
   "source": [
    "constraint1(x0)"
   ]
  },
  {
   "cell_type": "code",
   "execution_count": 75,
   "id": "d9b2b7ce",
   "metadata": {},
   "outputs": [
    {
     "data": {
      "text/plain": [
       "-12"
      ]
     },
     "execution_count": 75,
     "metadata": {},
     "output_type": "execute_result"
    }
   ],
   "source": [
    "constraint2(x0)"
   ]
  },
  {
   "cell_type": "code",
   "execution_count": null,
   "id": "d83a1d7b",
   "metadata": {},
   "outputs": [],
   "source": []
  },
  {
   "cell_type": "code",
   "execution_count": 76,
   "id": "a5063e8d",
   "metadata": {},
   "outputs": [],
   "source": [
    "b=(1.0,5.0)\n",
    "bnds = (b,b,b,b)\n",
    "cons1 = {'type':'ineq', 'fun':constraint1 }\n",
    "cons2 = {'type':'eq', 'fun':constraint2 }\n",
    "cons=[cons1, cons2]"
   ]
  },
  {
   "cell_type": "code",
   "execution_count": 77,
   "id": "755b6834",
   "metadata": {},
   "outputs": [],
   "source": [
    "sol = minimize(fun=objective, x0=x0 ,bounds=bnds, constraints=cons)"
   ]
  },
  {
   "cell_type": "code",
   "execution_count": 78,
   "id": "cb6f5b3b",
   "metadata": {},
   "outputs": [
    {
     "data": {
      "text/plain": [
       "     fun: 17.01401724563517\n",
       "     jac: array([14.57227015,  1.37940764,  2.37940764,  9.56415057])\n",
       " message: 'Optimization terminated successfully'\n",
       "    nfev: 25\n",
       "     nit: 5\n",
       "    njev: 5\n",
       "  status: 0\n",
       " success: True\n",
       "       x: array([1.        , 4.7429961 , 3.82115462, 1.37940765])"
      ]
     },
     "execution_count": 78,
     "metadata": {},
     "output_type": "execute_result"
    }
   ],
   "source": [
    "sol"
   ]
  },
  {
   "cell_type": "code",
   "execution_count": 80,
   "id": "a64b7fa2",
   "metadata": {},
   "outputs": [
    {
     "data": {
      "text/plain": [
       "array([1.        , 4.7429961 , 3.82115462, 1.37940765])"
      ]
     },
     "execution_count": 80,
     "metadata": {},
     "output_type": "execute_result"
    }
   ],
   "source": [
    "sol.x"
   ]
  },
  {
   "cell_type": "code",
   "execution_count": 81,
   "id": "8265fc73",
   "metadata": {},
   "outputs": [
    {
     "data": {
      "text/plain": [
       "-8.2353237118582e-08"
      ]
     },
     "execution_count": 81,
     "metadata": {},
     "output_type": "execute_result"
    }
   ],
   "source": [
    "constraint2(sol.x)"
   ]
  },
  {
   "cell_type": "code",
   "execution_count": null,
   "id": "94903997",
   "metadata": {},
   "outputs": [],
   "source": []
  },
  {
   "cell_type": "code",
   "execution_count": null,
   "id": "f3f11f40",
   "metadata": {},
   "outputs": [],
   "source": []
  },
  {
   "cell_type": "code",
   "execution_count": null,
   "id": "350e1638",
   "metadata": {},
   "outputs": [],
   "source": []
  }
 ],
 "metadata": {
  "kernelspec": {
   "display_name": "Python 3 (ipykernel)",
   "language": "python",
   "name": "python3"
  },
  "language_info": {
   "codemirror_mode": {
    "name": "ipython",
    "version": 3
   },
   "file_extension": ".py",
   "mimetype": "text/x-python",
   "name": "python",
   "nbconvert_exporter": "python",
   "pygments_lexer": "ipython3",
   "version": "3.8.8"
  }
 },
 "nbformat": 4,
 "nbformat_minor": 5
}
