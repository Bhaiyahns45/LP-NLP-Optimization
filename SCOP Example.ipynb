{
 "cells": [
  {
   "cell_type": "markdown",
   "id": "01593bac",
   "metadata": {},
   "source": [
    "Second Order Cone Programming (SOCP) is a mathematical optimization technique that deals with problems where the objective function and constraints involve second-order cone constraints. These constraints define a region in which the variables must lie, characterized by the norm of a vector being less than or equal to a scalar multiple of another vector.\n",
    "\n",
    "The general form of a second-order cone constraint is:\n",
    "||Ax + b|| <= c^T x + d\n",
    "\n",
    "In this constraint, x is the vector of decision variables, A is a matrix, b and c are vectors, and d is a scalar constant. The norm ||.|| typically refers to the Euclidean norm.\n",
    "\n",
    "SOCP problems can be solved using specialized solvers that handle this specific type of optimization. Some popular solvers capable of solving SOCP problems include:\n",
    "\n",
    "MOSEK: MOSEK is a commercial solver that supports second-order cone programming. It offers high-performance algorithms for solving large-scale SOCP problems efficiently.\n",
    "\n",
    "Gurobi: Gurobi Optimization provides a commercial solver that can handle second-order cone programming. Gurobi offers advanced optimization algorithms and can efficiently solve SOCP problems.\n",
    "\n",
    "CPLEX: CPLEX, another commercial solver, has the capability to solve second-order cone programming problems. It employs an interior-point method and other efficient techniques for solving large-scale SOCP problems.\n",
    "\n",
    "ECOS: ECOS (Embedded Cone Solver) is an open-source solver that supports second-order cone programming. It is designed to solve convex optimization problems and provides an efficient implementation for SOCP problems.\n",
    "\n",
    "CVXOPT: CVXOPT is an open-source optimization library that includes support for second-order cone programming. It provides an interface for formulating and solving convex optimization problems, including SOCP.\n",
    "\n",
    "These solvers use advanced optimization techniques, including interior-point methods and other specialized algorithms, to efficiently handle SOCP problems and find optimal solutions.\n",
    "\n",
    "When working with second-order cone programming, it is important to formulate the problem correctly and ensure that the constraints and objective function are appropriately defined using the second-order cone constraints. The choice of solver depends on factors such as problem size, complexity, licensing requirements, and specific features or requirements of the problem domain."
   ]
  },
  {
   "cell_type": "code",
   "execution_count": 77,
   "id": "c50d6232",
   "metadata": {},
   "outputs": [],
   "source": [
    "import pyomo.environ as pyo\n",
    "from pyomo.environ import *\n",
    "from pyomo.opt import SolverFactory"
   ]
  },
  {
   "cell_type": "code",
   "execution_count": 78,
   "id": "58fa7cdf",
   "metadata": {},
   "outputs": [],
   "source": [
    "model = pyo.ConcreteModel()"
   ]
  },
  {
   "cell_type": "code",
   "execution_count": 79,
   "id": "4375c954",
   "metadata": {},
   "outputs": [],
   "source": [
    "# variable"
   ]
  },
  {
   "cell_type": "code",
   "execution_count": 80,
   "id": "51bd24bb",
   "metadata": {},
   "outputs": [],
   "source": [
    "model.C = pyo.Var(range(1,4))\n",
    "model.n = pyo.Var(range(1, 4), within=Integers, bounds=(0, 1000))"
   ]
  },
  {
   "cell_type": "code",
   "execution_count": 81,
   "id": "cea73490",
   "metadata": {},
   "outputs": [],
   "source": [
    "C = model.C\n",
    "n = model.n"
   ]
  },
  {
   "cell_type": "code",
   "execution_count": 82,
   "id": "d87b4acf",
   "metadata": {},
   "outputs": [],
   "source": [
    "# objective"
   ]
  },
  {
   "cell_type": "code",
   "execution_count": 83,
   "id": "b71227a9",
   "metadata": {},
   "outputs": [],
   "source": [
    "model.obj = pyo.Objective(expr = C[1] + C[2] + C[3]) \n",
    "\n",
    "# or u can also write\n",
    "\n",
    "# model.bj = pyo.Objective(expr = pyo.summation(C))\n"
   ]
  },
  {
   "cell_type": "code",
   "execution_count": 84,
   "id": "4206bd19",
   "metadata": {},
   "outputs": [],
   "source": [
    "# constraints"
   ]
  },
  {
   "cell_type": "code",
   "execution_count": 91,
   "id": "c70efe63",
   "metadata": {},
   "outputs": [
    {
     "name": "stdout",
     "output_type": "stream",
     "text": [
      "WARNING: Implicitly replacing the Component attribute total (type=<class\n",
      "'pyomo.core.base.constraint.ScalarConstraint'>) on block unknown with a new\n",
      "Component (type=<class\n",
      "'pyomo.core.base.constraint.AbstractScalarConstraint'>). This is usually\n",
      "indicative of a modelling error. To avoid this warning, use\n",
      "block.del_component() and block.add_component().\n",
      "WARNING: Implicitly replacing the Component attribute C1 (type=<class\n",
      "'pyomo.core.base.constraint.ScalarConstraint'>) on block unknown with a new\n",
      "Component (type=<class\n",
      "'pyomo.core.base.constraint.AbstractScalarConstraint'>). This is usually\n",
      "indicative of a modelling error. To avoid this warning, use\n",
      "block.del_component() and block.add_component().\n",
      "WARNING: Implicitly replacing the Component attribute C2 (type=<class\n",
      "'pyomo.core.base.constraint.ScalarConstraint'>) on block unknown with a new\n",
      "Component (type=<class\n",
      "'pyomo.core.base.constraint.AbstractScalarConstraint'>). This is usually\n",
      "indicative of a modelling error. To avoid this warning, use\n",
      "block.del_component() and block.add_component().\n",
      "WARNING: Implicitly replacing the Component attribute C3 (type=<class\n",
      "'pyomo.core.base.constraint.ScalarConstraint'>) on block unknown with a new\n",
      "Component (type=<class\n",
      "'pyomo.core.base.constraint.AbstractScalarConstraint'>). This is usually\n",
      "indicative of a modelling error. To avoid this warning, use\n",
      "block.del_component() and block.add_component().\n"
     ]
    }
   ],
   "source": [
    "model.total = pyo.Constraint(expr = pyo.summation(n) == 2100)\n",
    "\n",
    "model.C1 = pyo.Constraint(expr = C[1] == 0.01*n[1]*n[1] + 2*n[1])\n",
    "\n",
    "model.C2 = pyo.Constraint(expr = C[2] == 6*n[2])\n",
    "\n",
    "# model.C2 = pyo.Constraint(expr = C[2] == 6*n[2]*n[1]) \n",
    "# gurobi can't solve by default it bcz it is non-convex, u have to define that it is non-convex to solve it after solver\n",
    "# opt.options['Nonconvex'] = 2\n",
    "\n",
    "model.C3 = pyo.Constraint(expr = C[3] == 7*n[3])\n"
   ]
  },
  {
   "cell_type": "code",
   "execution_count": 86,
   "id": "db9cbb63",
   "metadata": {},
   "outputs": [
    {
     "name": "stdout",
     "output_type": "stream",
     "text": [
      "n : Size=3, Index=n_index\n",
      "    Key : Lower : Value : Upper : Fixed : Stale : Domain\n",
      "      1 :     0 :  None :  1000 : False :  True : Integers\n",
      "      2 :     0 :  None :  1000 : False :  True : Integers\n",
      "      3 :     0 :  None :  1000 : False :  True : Integers\n"
     ]
    }
   ],
   "source": [
    "model.n.pprint()"
   ]
  },
  {
   "cell_type": "code",
   "execution_count": 87,
   "id": "65a653e7",
   "metadata": {},
   "outputs": [
    {
     "data": {
      "text/plain": [
       "[1, 2, 3]"
      ]
     },
     "execution_count": 87,
     "metadata": {},
     "output_type": "execute_result"
    }
   ],
   "source": [
    "[i for i in model.n.keys()]"
   ]
  },
  {
   "cell_type": "code",
   "execution_count": null,
   "id": "029e62f7",
   "metadata": {},
   "outputs": [],
   "source": []
  },
  {
   "cell_type": "code",
   "execution_count": 88,
   "id": "6dbd5d04",
   "metadata": {},
   "outputs": [
    {
     "data": {
      "text/plain": [
       "{'Problem': [{'Lower bound': -inf, 'Upper bound': inf, 'Number of objectives': 1, 'Number of constraints': 4, 'Number of variables': 6, 'Sense': 'unknown'}], 'Solver': [{'Status': 'ok', 'Message': 'Ipopt 3.11.1\\\\x3a Optimal Solution Found', 'Termination condition': 'optimal', 'Id': 0, 'Error rc': 0, 'Time': 0.05764007568359375}], 'Solution': [OrderedDict([('number of solutions', 0), ('number of solutions displayed', 0)])]}"
      ]
     },
     "execution_count": 88,
     "metadata": {},
     "output_type": "execute_result"
    }
   ],
   "source": [
    "opt = pyo.SolverFactory('ipopt')\n",
    "opt.solve(model)"
   ]
  },
  {
   "cell_type": "code",
   "execution_count": 89,
   "id": "6860f6ff",
   "metadata": {},
   "outputs": [
    {
     "name": "stdout",
     "output_type": "stream",
     "text": [
      "n1 =  99.99998000000103\n",
      "n2 =  1000.0\n",
      "n3 =  1000.0\n",
      "ntotal = n[1] + n[2] + n[3] 2099.999980000001\n"
     ]
    }
   ],
   "source": [
    "print(\"n1 = \", pyo.value(n[1]))\n",
    "print(\"n2 = \", pyo.value(n[2]))\n",
    "print(\"n3 = \", pyo.value(n[3]))\n",
    "\n",
    "print('ntotal =', pyo.summation(n), pyo.value(pyo.summation(n)))"
   ]
  },
  {
   "cell_type": "code",
   "execution_count": 90,
   "id": "18cbcc77",
   "metadata": {},
   "outputs": [
    {
     "name": "stdout",
     "output_type": "stream",
     "text": [
      "C1 =  99.99998000000103\n",
      "C2 =  1000.0\n",
      "C3 =  1000.0\n",
      "Ctotal = C[1] + C[2] + C[3] 607299.8859900046\n"
     ]
    }
   ],
   "source": [
    "print(\"C1 = \", pyo.value(n[1]))\n",
    "print(\"C2 = \", pyo.value(n[2]))\n",
    "print(\"C3 = \", pyo.value(n[3]))\n",
    "\n",
    "print('Ctotal =', pyo.summation(C), pyo.value(pyo.summation(C)))"
   ]
  },
  {
   "cell_type": "code",
   "execution_count": null,
   "id": "fb904fe4",
   "metadata": {},
   "outputs": [],
   "source": []
  },
  {
   "cell_type": "code",
   "execution_count": null,
   "id": "cf870221",
   "metadata": {},
   "outputs": [],
   "source": []
  }
 ],
 "metadata": {
  "kernelspec": {
   "display_name": "Python 3 (ipykernel)",
   "language": "python",
   "name": "python3"
  },
  "language_info": {
   "codemirror_mode": {
    "name": "ipython",
    "version": 3
   },
   "file_extension": ".py",
   "mimetype": "text/x-python",
   "name": "python",
   "nbconvert_exporter": "python",
   "pygments_lexer": "ipython3",
   "version": "3.10.9"
  }
 },
 "nbformat": 4,
 "nbformat_minor": 5
}
