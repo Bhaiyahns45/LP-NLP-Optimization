{
 "cells": [
  {
   "cell_type": "markdown",
   "id": "226e7f06",
   "metadata": {},
   "source": [
    "Nonlinear programming (NLP) solvers are specialized software or libraries designed to solve optimization problems \n",
    "with nonlinear objective functions and constraints. These solvers employ various algorithms and techniques to \n",
    "find the optimal solution. Here are some popular nonlinear programming solvers:"
   ]
  },
  {
   "cell_type": "code",
   "execution_count": null,
   "id": "177f536c",
   "metadata": {},
   "outputs": [],
   "source": []
  },
  {
   "cell_type": "markdown",
   "id": "3ca2b348",
   "metadata": {},
   "source": [
    "# using IPOPT"
   ]
  },
  {
   "cell_type": "code",
   "execution_count": 17,
   "id": "90868381",
   "metadata": {},
   "outputs": [],
   "source": [
    "import pyomo.environ as pyo\n",
    "from pyomo.environ import *\n",
    "from pyomo.opt import SolverFactory"
   ]
  },
  {
   "cell_type": "code",
   "execution_count": 18,
   "id": "7a747468",
   "metadata": {},
   "outputs": [
    {
     "name": "stdout",
     "output_type": "stream",
     "text": [
      "x =  4.000000040836346\n",
      "y =  6.000000054151353\n"
     ]
    }
   ],
   "source": [
    "model = pyo.ConcreteModel()\n",
    "\n",
    "model.x = pyo.Var(within = Integers, bounds= (0,10))\n",
    "model.y = pyo.Var(bounds= (0,10))\n",
    "\n",
    "x = model.x\n",
    "y = model.y\n",
    "\n",
    "model.C1 = pyo.Constraint(expr = -x+2*y<=8)\n",
    "model.C2 = pyo.Constraint(expr = 2*x+y<=14)\n",
    "model.C3 = pyo.Constraint(expr = 2*x-y<=10)\n",
    "\n",
    "model.obj = pyo.Objective(expr = x+y, sense = maximize)\n",
    "\n",
    "opt = pyo.SolverFactory('ipopt')\n",
    "opt.solve(model) \n",
    "\n",
    "print(\"x = \", pyo.value(x))\n",
    "print(\"y = \", pyo.value(y))"
   ]
  },
  {
   "cell_type": "code",
   "execution_count": 7,
   "id": "d5171572",
   "metadata": {},
   "outputs": [],
   "source": [
    "# we can see that we can solve LP using IPOPT solver , but it is not recommended to use it"
   ]
  },
  {
   "cell_type": "code",
   "execution_count": null,
   "id": "9ef8f7ad",
   "metadata": {},
   "outputs": [],
   "source": []
  },
  {
   "cell_type": "code",
   "execution_count": 8,
   "id": "711e9cd6",
   "metadata": {},
   "outputs": [],
   "source": [
    "# now let solev NLP problem using IPOPT"
   ]
  },
  {
   "cell_type": "code",
   "execution_count": 16,
   "id": "53880311",
   "metadata": {},
   "outputs": [
    {
     "name": "stdout",
     "output_type": "stream",
     "text": [
      "x =  5.606715156787914\n",
      "y =  1.2134302212682802\n"
     ]
    }
   ],
   "source": [
    "model = pyo.ConcreteModel()\n",
    "\n",
    "model.x = pyo.Var(within = Integers, bounds= (0,10))\n",
    "model.y = pyo.Var(bounds= (0,10))\n",
    "\n",
    "x = model.x\n",
    "y = model.y\n",
    "\n",
    "model.C1 = pyo.Constraint(expr = -x+2*x*y<=8)\n",
    "model.C2 = pyo.Constraint(expr = 2*x+y<=14)\n",
    "model.C3 = pyo.Constraint(expr = 2*x-y<=10)\n",
    "\n",
    "model.obj = pyo.Objective(expr = x+y*y, sense = maximize)\n",
    "\n",
    "opt = pyo.SolverFactory('ipopt') \n",
    "# opt = pyo.SolverFactory('glpk') -> can't solve NLP , this will give error\n",
    "# opt = pyo.SolverFactory('gurobi') -> Gurobi is not a general purpose nonlinear programming solver, but \n",
    "# it is able to handle certain nonlinear constraints by reformulating them into supported linear and/or quadratic constraints.\n",
    "\n",
    "\n",
    "opt.solve(model) \n",
    "\n",
    "print(\"x = \", pyo.value(x))\n",
    "print(\"y = \", pyo.value(y))"
   ]
  },
  {
   "cell_type": "code",
   "execution_count": null,
   "id": "272383e2",
   "metadata": {},
   "outputs": [],
   "source": []
  },
  {
   "cell_type": "markdown",
   "id": "c69d8420",
   "metadata": {},
   "source": [
    "# using SCIP"
   ]
  },
  {
   "cell_type": "code",
   "execution_count": 14,
   "id": "534caa68",
   "metadata": {},
   "outputs": [
    {
     "name": "stdout",
     "output_type": "stream",
     "text": [
      "Defaulting to user installation because normal site-packages is not writeable\n",
      "Collecting pyscipopt\n",
      "  Downloading PySCIPOpt-4.3.0.tar.gz (665 kB)\n",
      "     -------------------------------------- 665.7/665.7 kB 8.4 MB/s eta 0:00:00\n",
      "  Installing build dependencies: started\n",
      "  Installing build dependencies: finished with status 'done'\n",
      "  Getting requirements to build wheel: started\n",
      "  Getting requirements to build wheel: finished with status 'done'\n",
      "  Installing backend dependencies: started\n",
      "  Installing backend dependencies: finished with status 'done'\n",
      "  Preparing metadata (pyproject.toml): started\n",
      "  Preparing metadata (pyproject.toml): finished with status 'done'\n",
      "Building wheels for collected packages: pyscipopt\n",
      "  Building wheel for pyscipopt (pyproject.toml): started\n",
      "  Building wheel for pyscipopt (pyproject.toml): finished with status 'error'\n",
      "Failed to build pyscipopt\n"
     ]
    },
    {
     "name": "stderr",
     "output_type": "stream",
     "text": [
      "  error: subprocess-exited-with-error\n",
      "  \n",
      "  Building wheel for pyscipopt (pyproject.toml) did not run successfully.\n",
      "  exit code: 1\n",
      "  \n",
      "  [31 lines of output]\n",
      "  Assuming that SCIP is installed globally, because SCIPOPTDIR is undefined.\n",
      "  \n",
      "  running bdist_wheel\n",
      "  running build\n",
      "  running build_py\n",
      "  creating build\n",
      "  creating build\\lib.win-amd64-cpython-310\n",
      "  creating build\\lib.win-amd64-cpython-310\\pyscipopt\n",
      "  copying src\\pyscipopt\\Multidict.py -> build\\lib.win-amd64-cpython-310\\pyscipopt\n",
      "  copying src\\pyscipopt\\__init__.py -> build\\lib.win-amd64-cpython-310\\pyscipopt\n",
      "  copying src\\pyscipopt\\scip.pyx -> build\\lib.win-amd64-cpython-310\\pyscipopt\n",
      "  copying src\\pyscipopt\\scip.pxd -> build\\lib.win-amd64-cpython-310\\pyscipopt\n",
      "  copying src\\pyscipopt\\benders.pxi -> build\\lib.win-amd64-cpython-310\\pyscipopt\n",
      "  copying src\\pyscipopt\\benderscut.pxi -> build\\lib.win-amd64-cpython-310\\pyscipopt\n",
      "  copying src\\pyscipopt\\branchrule.pxi -> build\\lib.win-amd64-cpython-310\\pyscipopt\n",
      "  copying src\\pyscipopt\\conshdlr.pxi -> build\\lib.win-amd64-cpython-310\\pyscipopt\n",
      "  copying src\\pyscipopt\\cutsel.pxi -> build\\lib.win-amd64-cpython-310\\pyscipopt\n",
      "  copying src\\pyscipopt\\event.pxi -> build\\lib.win-amd64-cpython-310\\pyscipopt\n",
      "  copying src\\pyscipopt\\expr.pxi -> build\\lib.win-amd64-cpython-310\\pyscipopt\n",
      "  copying src\\pyscipopt\\heuristic.pxi -> build\\lib.win-amd64-cpython-310\\pyscipopt\n",
      "  copying src\\pyscipopt\\lp.pxi -> build\\lib.win-amd64-cpython-310\\pyscipopt\n",
      "  copying src\\pyscipopt\\nodesel.pxi -> build\\lib.win-amd64-cpython-310\\pyscipopt\n",
      "  copying src\\pyscipopt\\presol.pxi -> build\\lib.win-amd64-cpython-310\\pyscipopt\n",
      "  copying src\\pyscipopt\\pricer.pxi -> build\\lib.win-amd64-cpython-310\\pyscipopt\n",
      "  copying src\\pyscipopt\\propagator.pxi -> build\\lib.win-amd64-cpython-310\\pyscipopt\n",
      "  copying src\\pyscipopt\\reader.pxi -> build\\lib.win-amd64-cpython-310\\pyscipopt\n",
      "  copying src\\pyscipopt\\relax.pxi -> build\\lib.win-amd64-cpython-310\\pyscipopt\n",
      "  copying src\\pyscipopt\\sepa.pxi -> build\\lib.win-amd64-cpython-310\\pyscipopt\n",
      "  running build_ext\n",
      "  building 'pyscipopt.scip' extension\n",
      "  error: Microsoft Visual C++ 14.0 or greater is required. Get it with \"Microsoft C++ Build Tools\": https://visualstudio.microsoft.com/visual-cpp-build-tools/\n",
      "  [end of output]\n",
      "  \n",
      "  note: This error originates from a subprocess, and is likely not a problem with pip.\n",
      "  ERROR: Failed building wheel for pyscipopt\n",
      "ERROR: Could not build wheels for pyscipopt, which is required to install pyproject.toml-based projects\n"
     ]
    }
   ],
   "source": [
    "!pip install pyscipopt"
   ]
  },
  {
   "cell_type": "code",
   "execution_count": 15,
   "id": "7e3df885",
   "metadata": {},
   "outputs": [
    {
     "ename": "ModuleNotFoundError",
     "evalue": "No module named 'pyscipopt'",
     "output_type": "error",
     "traceback": [
      "\u001b[1;31m---------------------------------------------------------------------------\u001b[0m",
      "\u001b[1;31mModuleNotFoundError\u001b[0m                       Traceback (most recent call last)",
      "Cell \u001b[1;32mIn[15], line 1\u001b[0m\n\u001b[1;32m----> 1\u001b[0m \u001b[38;5;28;01mfrom\u001b[39;00m \u001b[38;5;21;01mpyscipopt\u001b[39;00m \u001b[38;5;28;01mimport\u001b[39;00m Model\n\u001b[0;32m      3\u001b[0m model \u001b[38;5;241m=\u001b[39m Model(\u001b[38;5;124m'\u001b[39m\u001b[38;5;124mexample\u001b[39m\u001b[38;5;124m'\u001b[39m)\n\u001b[0;32m      5\u001b[0m x\u001b[38;5;241m=\u001b[39m model\u001b[38;5;241m.\u001b[39maddVar(\u001b[38;5;124m'\u001b[39m\u001b[38;5;124mx\u001b[39m\u001b[38;5;124m'\u001b[39m)\n",
      "\u001b[1;31mModuleNotFoundError\u001b[0m: No module named 'pyscipopt'"
     ]
    }
   ],
   "source": [
    "from pyscipopt import Model\n",
    "\n",
    "model = Model('example')\n",
    "\n",
    "x= model.addVar('x')\n",
    "y= model.addVar('y')\n",
    "\n",
    "model.setObjective(x+y, sense = 'maximize')\n",
    "\n",
    "model.addCons(-x+2*y<=8)\n",
    "model.addCons(2*x+y<=14)\n",
    "model.addCons(2*x-y<=10)\n",
    "model.optimize()\n",
    "\n",
    "sol = model.getBestSol()\n",
    "\n",
    "sol[x], sol[y]"
   ]
  },
  {
   "cell_type": "code",
   "execution_count": null,
   "id": "eae84f08",
   "metadata": {},
   "outputs": [],
   "source": []
  },
  {
   "cell_type": "code",
   "execution_count": null,
   "id": "356e7441",
   "metadata": {},
   "outputs": [],
   "source": []
  },
  {
   "cell_type": "code",
   "execution_count": null,
   "id": "9a398cc5",
   "metadata": {},
   "outputs": [],
   "source": []
  },
  {
   "cell_type": "code",
   "execution_count": null,
   "id": "a5344824",
   "metadata": {},
   "outputs": [],
   "source": []
  },
  {
   "cell_type": "code",
   "execution_count": null,
   "id": "b3f0ed6b",
   "metadata": {},
   "outputs": [],
   "source": []
  },
  {
   "cell_type": "code",
   "execution_count": null,
   "id": "b939036d",
   "metadata": {},
   "outputs": [],
   "source": []
  }
 ],
 "metadata": {
  "kernelspec": {
   "display_name": "Python 3 (ipykernel)",
   "language": "python",
   "name": "python3"
  },
  "language_info": {
   "codemirror_mode": {
    "name": "ipython",
    "version": 3
   },
   "file_extension": ".py",
   "mimetype": "text/x-python",
   "name": "python",
   "nbconvert_exporter": "python",
   "pygments_lexer": "ipython3",
   "version": "3.10.9"
  }
 },
 "nbformat": 4,
 "nbformat_minor": 5
}
