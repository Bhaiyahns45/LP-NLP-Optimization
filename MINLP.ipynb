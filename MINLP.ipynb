{
 "cells": [
  {
   "cell_type": "markdown",
   "id": "b6ec4390",
   "metadata": {},
   "source": [
    "MINLP stands for Mixed-Integer Nonlinear Programming. It refers to optimization problems that involve a combination of continuous and discrete decision variables, as well as nonlinear objective functions and constraints. MINLP problems are known to be challenging to solve due to the presence of both discrete and nonlinear components.\n",
    "\n",
    "Several solvers and software packages are available for solving MINLP problems. Here are some popular ones:\n",
    "\n",
    "1. Bonmin: Bonmin (Basic Open-source Nonlinear Mixed INteger programming) is an open-source solver developed within the COIN-OR (Computational Infrastructure for Operations Research) project. It combines branch-and-bound and outer approximation methods to handle MINLP problems efficiently.\n",
    "\n",
    "2. Baron: Baron is a commercial solver specifically designed for global optimization, including MINLP problems. It employs a branch-and-reduce approach combined with interval arithmetic techniques to search for global optima.\n",
    "\n",
    "3. Couenne: Couenne (Convex Over and Under ENvelopes for Nonlinear Estimation) is an open-source solver also developed within the COIN-OR project. It uses branch-and-bound with outer-approximation methods to solve MINLP problems with convex relaxations.\n",
    "\n",
    "4. SCIP: SCIP (Solving Constraint Integer Programs) is a powerful solver that handles various types of combinatorial and nonlinear optimization problems, including MINLP. It employs branch-and-cut methods and advanced techniques for problem decomposition and relaxation.\n",
    "\n",
    "5. Antigone: Antigone is a solver specifically designed for MINLP problems that involve mixed-integer quadratically-constrained programming (MIQCP). It is part of the COUENNE project and uses a branch-and-bound approach.\n",
    "\n",
    "6. Gurobi: Gurobi Optimization offers a commercial optimization solver that can handle mixed-integer nonlinear programming (MINLP) problems. Gurobi employs a range of algorithms, including branch-and-cut, to solve MINLP problems effectively.\n",
    "\n",
    "7. APOPT: APOPT (Advanced Process Optimization) is a suite of solvers that includes capabilities for handling MINLP problems. It provides a variety of algorithms, including interior-point and sequential quadratic programming methods, to solve nonlinear optimization problems with mixed-integer variables.\n",
    "\n",
    "These are just a few examples of MINLP solvers available. The choice of solver depends on factors such as problem characteristics, required performance, licensing considerations, and integration with specific software or modeling frameworks."
   ]
  },
  {
   "cell_type": "code",
   "execution_count": 5,
   "id": "005d25bd",
   "metadata": {},
   "outputs": [],
   "source": [
    "import pyomo.environ as pyo\n",
    "from pyomo.environ import *\n",
    "from pyomo.opt import SolverFactory"
   ]
  },
  {
   "cell_type": "code",
   "execution_count": null,
   "id": "cc66f814",
   "metadata": {},
   "outputs": [],
   "source": []
  },
  {
   "cell_type": "markdown",
   "id": "31283a81",
   "metadata": {},
   "source": [
    "# using Couenne"
   ]
  },
  {
   "cell_type": "code",
   "execution_count": null,
   "id": "dc3f01d1",
   "metadata": {},
   "outputs": [],
   "source": []
  },
  {
   "cell_type": "code",
   "execution_count": 3,
   "id": "4eec9ae9",
   "metadata": {},
   "outputs": [
    {
     "name": "stderr",
     "output_type": "stream",
     "text": [
      "Exception in thread Thread-6 (_readerthread):\n",
      "Traceback (most recent call last):\n",
      "  File \"C:\\ProgramData\\anaconda3\\lib\\threading.py\", line 1016, in _bootstrap_inner\n",
      "    self.run()\n",
      "  File \"C:\\ProgramData\\anaconda3\\lib\\threading.py\", line 953, in run\n",
      "    self._target(*self._args, **self._kwargs)\n",
      "  File \"C:\\ProgramData\\anaconda3\\lib\\subprocess.py\", line 1499, in _readerthread\n",
      "    buffer.append(fh.read())\n",
      "  File \"C:\\ProgramData\\anaconda3\\lib\\encodings\\cp1252.py\", line 23, in decode\n",
      "    return codecs.charmap_decode(input,self.errors,decoding_table)[0]\n",
      "UnicodeDecodeError: 'charmap' codec can't decode byte 0x81 in position 38: character maps to <undefined>\n"
     ]
    },
    {
     "ename": "TypeError",
     "evalue": "expected string or bytes-like object",
     "output_type": "error",
     "traceback": [
      "\u001b[1;31m---------------------------------------------------------------------------\u001b[0m",
      "\u001b[1;31mTypeError\u001b[0m                                 Traceback (most recent call last)",
      "Cell \u001b[1;32mIn[3], line 17\u001b[0m\n\u001b[0;32m     14\u001b[0m model\u001b[38;5;241m.\u001b[39mobj \u001b[38;5;241m=\u001b[39m pyo\u001b[38;5;241m.\u001b[39mObjective(expr \u001b[38;5;241m=\u001b[39m x\u001b[38;5;241m+\u001b[39my\u001b[38;5;241m*\u001b[39mx, sense \u001b[38;5;241m=\u001b[39m maximize)\n\u001b[0;32m     16\u001b[0m opt \u001b[38;5;241m=\u001b[39m pyo\u001b[38;5;241m.\u001b[39mSolverFactory(\u001b[38;5;124m'\u001b[39m\u001b[38;5;124mcouenne\u001b[39m\u001b[38;5;124m'\u001b[39m)\n\u001b[1;32m---> 17\u001b[0m \u001b[43mopt\u001b[49m\u001b[38;5;241;43m.\u001b[39;49m\u001b[43msolve\u001b[49m\u001b[43m(\u001b[49m\u001b[43mmodel\u001b[49m\u001b[43m)\u001b[49m \n\u001b[0;32m     19\u001b[0m \u001b[38;5;28mprint\u001b[39m(\u001b[38;5;124m\"\u001b[39m\u001b[38;5;124mx = \u001b[39m\u001b[38;5;124m\"\u001b[39m, pyo\u001b[38;5;241m.\u001b[39mvalue(x))\n\u001b[0;32m     20\u001b[0m \u001b[38;5;28mprint\u001b[39m(\u001b[38;5;124m\"\u001b[39m\u001b[38;5;124my = \u001b[39m\u001b[38;5;124m\"\u001b[39m, pyo\u001b[38;5;241m.\u001b[39mvalue(y))\n",
      "File \u001b[1;32m~\\AppData\\Roaming\\Python\\Python310\\site-packages\\pyomo\\opt\\base\\solvers.py:533\u001b[0m, in \u001b[0;36mOptSolver.solve\u001b[1;34m(self, *args, **kwds)\u001b[0m\n\u001b[0;32m    530\u001b[0m \u001b[38;5;28;01mdef\u001b[39;00m \u001b[38;5;21msolve\u001b[39m(\u001b[38;5;28mself\u001b[39m, \u001b[38;5;241m*\u001b[39margs, \u001b[38;5;241m*\u001b[39m\u001b[38;5;241m*\u001b[39mkwds):\n\u001b[0;32m    531\u001b[0m     \u001b[38;5;124;03m\"\"\"Solve the problem\"\"\"\u001b[39;00m\n\u001b[1;32m--> 533\u001b[0m     \u001b[38;5;28;43mself\u001b[39;49m\u001b[38;5;241;43m.\u001b[39;49m\u001b[43mavailable\u001b[49m\u001b[43m(\u001b[49m\u001b[43mexception_flag\u001b[49m\u001b[38;5;241;43m=\u001b[39;49m\u001b[38;5;28;43;01mTrue\u001b[39;49;00m\u001b[43m)\u001b[49m\n\u001b[0;32m    534\u001b[0m     \u001b[38;5;66;03m#\u001b[39;00m\n\u001b[0;32m    535\u001b[0m     \u001b[38;5;66;03m# If the inputs are models, then validate that they have been\u001b[39;00m\n\u001b[0;32m    536\u001b[0m     \u001b[38;5;66;03m# constructed! Collect suffix names to try and import from solution.\u001b[39;00m\n\u001b[0;32m    537\u001b[0m     \u001b[38;5;66;03m#\u001b[39;00m\n\u001b[0;32m    538\u001b[0m     \u001b[38;5;28;01mfrom\u001b[39;00m \u001b[38;5;21;01mpyomo\u001b[39;00m\u001b[38;5;21;01m.\u001b[39;00m\u001b[38;5;21;01mcore\u001b[39;00m\u001b[38;5;21;01m.\u001b[39;00m\u001b[38;5;21;01mbase\u001b[39;00m\u001b[38;5;21;01m.\u001b[39;00m\u001b[38;5;21;01mblock\u001b[39;00m \u001b[38;5;28;01mimport\u001b[39;00m _BlockData\n",
      "File \u001b[1;32m~\\AppData\\Roaming\\Python\\Python310\\site-packages\\pyomo\\solvers\\plugins\\solvers\\ASL.py:119\u001b[0m, in \u001b[0;36mASL.available\u001b[1;34m(self, exception_flag)\u001b[0m\n\u001b[0;32m    117\u001b[0m \u001b[38;5;28;01mif\u001b[39;00m \u001b[38;5;129;01mnot\u001b[39;00m \u001b[38;5;28msuper\u001b[39m()\u001b[38;5;241m.\u001b[39mavailable(exception_flag):\n\u001b[0;32m    118\u001b[0m     \u001b[38;5;28;01mreturn\u001b[39;00m \u001b[38;5;28;01mFalse\u001b[39;00m\n\u001b[1;32m--> 119\u001b[0m \u001b[38;5;28;01mreturn\u001b[39;00m \u001b[38;5;28;43mself\u001b[39;49m\u001b[38;5;241;43m.\u001b[39;49m\u001b[43mversion\u001b[49m\u001b[43m(\u001b[49m\u001b[43m)\u001b[49m \u001b[38;5;129;01mis\u001b[39;00m \u001b[38;5;129;01mnot\u001b[39;00m \u001b[38;5;28;01mNone\u001b[39;00m\n",
      "File \u001b[1;32m~\\AppData\\Roaming\\Python\\Python310\\site-packages\\pyomo\\opt\\base\\solvers.py:436\u001b[0m, in \u001b[0;36mOptSolver.version\u001b[1;34m(self)\u001b[0m\n\u001b[0;32m    432\u001b[0m \u001b[38;5;124;03m\"\"\"\u001b[39;00m\n\u001b[0;32m    433\u001b[0m \u001b[38;5;124;03mReturns a 4-tuple describing the solver executable version.\u001b[39;00m\n\u001b[0;32m    434\u001b[0m \u001b[38;5;124;03m\"\"\"\u001b[39;00m\n\u001b[0;32m    435\u001b[0m \u001b[38;5;28;01mif\u001b[39;00m \u001b[38;5;28mself\u001b[39m\u001b[38;5;241m.\u001b[39m_version \u001b[38;5;129;01mis\u001b[39;00m \u001b[38;5;28;01mNone\u001b[39;00m:\n\u001b[1;32m--> 436\u001b[0m     \u001b[38;5;28mself\u001b[39m\u001b[38;5;241m.\u001b[39m_version \u001b[38;5;241m=\u001b[39m \u001b[38;5;28;43mself\u001b[39;49m\u001b[38;5;241;43m.\u001b[39;49m\u001b[43m_get_version\u001b[49m\u001b[43m(\u001b[49m\u001b[43m)\u001b[49m\n\u001b[0;32m    437\u001b[0m \u001b[38;5;28;01mreturn\u001b[39;00m \u001b[38;5;28mself\u001b[39m\u001b[38;5;241m.\u001b[39m_version\n",
      "File \u001b[1;32m~\\AppData\\Roaming\\Python\\Python310\\site-packages\\pyomo\\solvers\\plugins\\solvers\\ASL.py:105\u001b[0m, in \u001b[0;36mASL._get_version\u001b[1;34m(self)\u001b[0m\n\u001b[0;32m     97\u001b[0m \u001b[38;5;28;01mtry\u001b[39;00m:\n\u001b[0;32m     98\u001b[0m     results \u001b[38;5;241m=\u001b[39m subprocess\u001b[38;5;241m.\u001b[39mrun(\n\u001b[0;32m     99\u001b[0m         [solver_exec, \u001b[38;5;124m\"\u001b[39m\u001b[38;5;124m-v\u001b[39m\u001b[38;5;124m\"\u001b[39m],\n\u001b[0;32m    100\u001b[0m         timeout\u001b[38;5;241m=\u001b[39m\u001b[38;5;241m5\u001b[39m,\n\u001b[1;32m   (...)\u001b[0m\n\u001b[0;32m    103\u001b[0m         universal_newlines\u001b[38;5;241m=\u001b[39m\u001b[38;5;28;01mTrue\u001b[39;00m,\n\u001b[0;32m    104\u001b[0m     )\n\u001b[1;32m--> 105\u001b[0m     ver \u001b[38;5;241m=\u001b[39m \u001b[43m_extract_version\u001b[49m\u001b[43m(\u001b[49m\u001b[43mresults\u001b[49m\u001b[38;5;241;43m.\u001b[39;49m\u001b[43mstdout\u001b[49m\u001b[43m)\u001b[49m\n\u001b[0;32m    106\u001b[0m     \u001b[38;5;28;01mif\u001b[39;00m ver \u001b[38;5;129;01mis\u001b[39;00m \u001b[38;5;28;01mNone\u001b[39;00m:\n\u001b[0;32m    107\u001b[0m         \u001b[38;5;66;03m# Some ASL solvers do not export a version number\u001b[39;00m\n\u001b[0;32m    108\u001b[0m         \u001b[38;5;28;01mif\u001b[39;00m results\u001b[38;5;241m.\u001b[39mstdout\u001b[38;5;241m.\u001b[39mstrip()\u001b[38;5;241m.\u001b[39msplit()[\u001b[38;5;241m-\u001b[39m\u001b[38;5;241m1\u001b[39m]\u001b[38;5;241m.\u001b[39mstartswith(\u001b[38;5;124m'\u001b[39m\u001b[38;5;124mASL(\u001b[39m\u001b[38;5;124m'\u001b[39m):\n",
      "File \u001b[1;32m~\\AppData\\Roaming\\Python\\Python310\\site-packages\\pyomo\\opt\\base\\solvers.py:44\u001b[0m, in \u001b[0;36m_extract_version\u001b[1;34m(x, length)\u001b[0m\n\u001b[0;32m     40\u001b[0m \u001b[38;5;124;03m\"\"\"\u001b[39;00m\n\u001b[0;32m     41\u001b[0m \u001b[38;5;124;03mAttempts to extract solver version information from a string.\u001b[39;00m\n\u001b[0;32m     42\u001b[0m \u001b[38;5;124;03m\"\"\"\u001b[39;00m\n\u001b[0;32m     43\u001b[0m \u001b[38;5;28;01massert\u001b[39;00m (\u001b[38;5;241m1\u001b[39m \u001b[38;5;241m<\u001b[39m\u001b[38;5;241m=\u001b[39m length) \u001b[38;5;129;01mand\u001b[39;00m (length \u001b[38;5;241m<\u001b[39m\u001b[38;5;241m=\u001b[39m \u001b[38;5;241m4\u001b[39m)\n\u001b[1;32m---> 44\u001b[0m m \u001b[38;5;241m=\u001b[39m \u001b[43mre\u001b[49m\u001b[38;5;241;43m.\u001b[39;49m\u001b[43msearch\u001b[49m\u001b[43m(\u001b[49m\u001b[38;5;124;43m'\u001b[39;49m\u001b[38;5;124;43m[t,T]runk\u001b[39;49m\u001b[38;5;124;43m'\u001b[39;49m\u001b[43m,\u001b[49m\u001b[43m \u001b[49m\u001b[43mx\u001b[49m\u001b[43m)\u001b[49m\n\u001b[0;32m     45\u001b[0m \u001b[38;5;28;01mif\u001b[39;00m m \u001b[38;5;129;01mis\u001b[39;00m \u001b[38;5;129;01mnot\u001b[39;00m \u001b[38;5;28;01mNone\u001b[39;00m:\n\u001b[0;32m     46\u001b[0m     \u001b[38;5;66;03m# Since most version checks are comparing if the current\u001b[39;00m\n\u001b[0;32m     47\u001b[0m     \u001b[38;5;66;03m# version is greater/less than some other version, it makes\u001b[39;00m\n\u001b[0;32m     48\u001b[0m     \u001b[38;5;66;03m# since that a solver advertising trunk should always be greater\u001b[39;00m\n\u001b[0;32m     49\u001b[0m     \u001b[38;5;66;03m# than a version check, hence returning a tuple of infinities\u001b[39;00m\n\u001b[0;32m     50\u001b[0m     \u001b[38;5;28;01mreturn\u001b[39;00m \u001b[38;5;28mtuple\u001b[39m(\u001b[38;5;28mfloat\u001b[39m(\u001b[38;5;124m'\u001b[39m\u001b[38;5;124minf\u001b[39m\u001b[38;5;124m'\u001b[39m) \u001b[38;5;28;01mfor\u001b[39;00m i \u001b[38;5;129;01min\u001b[39;00m \u001b[38;5;28mrange\u001b[39m(length))\n",
      "File \u001b[1;32mC:\\ProgramData\\anaconda3\\lib\\re.py:200\u001b[0m, in \u001b[0;36msearch\u001b[1;34m(pattern, string, flags)\u001b[0m\n\u001b[0;32m    197\u001b[0m \u001b[38;5;28;01mdef\u001b[39;00m \u001b[38;5;21msearch\u001b[39m(pattern, string, flags\u001b[38;5;241m=\u001b[39m\u001b[38;5;241m0\u001b[39m):\n\u001b[0;32m    198\u001b[0m     \u001b[38;5;124;03m\"\"\"Scan through string looking for a match to the pattern, returning\u001b[39;00m\n\u001b[0;32m    199\u001b[0m \u001b[38;5;124;03m    a Match object, or None if no match was found.\"\"\"\u001b[39;00m\n\u001b[1;32m--> 200\u001b[0m     \u001b[38;5;28;01mreturn\u001b[39;00m \u001b[43m_compile\u001b[49m\u001b[43m(\u001b[49m\u001b[43mpattern\u001b[49m\u001b[43m,\u001b[49m\u001b[43m \u001b[49m\u001b[43mflags\u001b[49m\u001b[43m)\u001b[49m\u001b[38;5;241;43m.\u001b[39;49m\u001b[43msearch\u001b[49m\u001b[43m(\u001b[49m\u001b[43mstring\u001b[49m\u001b[43m)\u001b[49m\n",
      "\u001b[1;31mTypeError\u001b[0m: expected string or bytes-like object"
     ]
    }
   ],
   "source": [
    "model = pyo.ConcreteModel()\n",
    "\n",
    "model.x = pyo.Var(within = Integers, bounds = (0,10))\n",
    "model.y = pyo.Var(bounds= (0,10))\n",
    "\n",
    "x = model.x\n",
    "y = model.y\n",
    "\n",
    "model.C1 = pyo.Constraint(expr = -x+2*x*y<=8)\n",
    "model.C2 = pyo.Constraint(expr = 2*x+y<=14)\n",
    "model.C3 = pyo.Constraint(expr = 2*x-y<=10)\n",
    "\n",
    "\n",
    "model.obj = pyo.Objective(expr = x+y*x, sense = maximize)\n",
    "\n",
    "opt = pyo.SolverFactory('couenne')\n",
    "\n",
    "opt.solve(model)\n",
    "\n",
    "print(\"x = \", pyo.value(x))\n",
    "print(\"y = \", pyo.value(y))"
   ]
  },
  {
   "cell_type": "code",
   "execution_count": null,
   "id": "db0cc72a",
   "metadata": {},
   "outputs": [],
   "source": []
  },
  {
   "cell_type": "code",
   "execution_count": null,
   "id": "824e9412",
   "metadata": {},
   "outputs": [],
   "source": []
  },
  {
   "cell_type": "code",
   "execution_count": null,
   "id": "dd5b3f6f",
   "metadata": {},
   "outputs": [],
   "source": []
  },
  {
   "cell_type": "markdown",
   "id": "7dec1b2c",
   "metadata": {},
   "source": [
    "# MindtPy Solver"
   ]
  },
  {
   "cell_type": "markdown",
   "id": "b573309c",
   "metadata": {},
   "source": [
    "The Mixed-Integer Nonlinear Decomposition Toolbox in Pyomo (MindtPy) solver allows users to solve \n",
    "Mixed-Integer Nonlinear Programs (MINLP) using decomposition algorithms. These decomposition algorithms \n",
    "usually rely on the solution of Mixed-Intger Linear Programs (MILP) and Nonlinear Programs (NLP)."
   ]
  },
  {
   "cell_type": "code",
   "execution_count": 8,
   "id": "4aef4de2",
   "metadata": {},
   "outputs": [],
   "source": [
    "# https://pyomo.readthedocs.io/en/stable/contributed_packages/mindtpy.html"
   ]
  },
  {
   "cell_type": "code",
   "execution_count": null,
   "id": "efae6c3c",
   "metadata": {},
   "outputs": [],
   "source": []
  },
  {
   "cell_type": "code",
   "execution_count": 8,
   "id": "fd8c6a9e",
   "metadata": {},
   "outputs": [
    {
     "name": "stdout",
     "output_type": "stream",
     "text": [
      "x =  5.0\n",
      "y =  1.300000012498684\n"
     ]
    }
   ],
   "source": [
    "model = pyo.ConcreteModel()\n",
    "\n",
    "model.x = pyo.Var(within = Integers, bounds= (0,10))\n",
    "model.y = pyo.Var(bounds= (0,10))\n",
    "\n",
    "x = model.x\n",
    "y = model.y\n",
    "\n",
    "model.C1 = pyo.Constraint(expr = -x+2*x*y<=8)\n",
    "model.C2 = pyo.Constraint(expr = 2*x+y<=14)\n",
    "model.C3 = pyo.Constraint(expr = 2*x-y<=10)\n",
    "\n",
    "model.obj = pyo.Objective(expr = x+y*x, sense = maximize)\n",
    "\n",
    "opt = SolverFactory('mindtpy')\n",
    "opt.solve(model, mip_solver='glpk', nlp_solver='ipopt') \n",
    "\n",
    "\n",
    "opt.solve(model) \n",
    "\n",
    "print(\"x = \", pyo.value(x))\n",
    "print(\"y = \", pyo.value(y))"
   ]
  },
  {
   "cell_type": "code",
   "execution_count": null,
   "id": "90f2481e",
   "metadata": {},
   "outputs": [],
   "source": []
  },
  {
   "cell_type": "markdown",
   "id": "69b7adf3",
   "metadata": {},
   "source": [
    "# SCIP "
   ]
  },
  {
   "cell_type": "code",
   "execution_count": 10,
   "id": "0ff8794b",
   "metadata": {},
   "outputs": [
    {
     "ename": "ModuleNotFoundError",
     "evalue": "No module named 'pyscipopt'",
     "output_type": "error",
     "traceback": [
      "\u001b[1;31m---------------------------------------------------------------------------\u001b[0m",
      "\u001b[1;31mModuleNotFoundError\u001b[0m                       Traceback (most recent call last)",
      "Cell \u001b[1;32mIn[10], line 1\u001b[0m\n\u001b[1;32m----> 1\u001b[0m \u001b[38;5;28;01mfrom\u001b[39;00m \u001b[38;5;21;01mpyscipopt\u001b[39;00m \u001b[38;5;28;01mimport\u001b[39;00m Model\n\u001b[0;32m      3\u001b[0m model \u001b[38;5;241m=\u001b[39m Model(\u001b[38;5;124m'\u001b[39m\u001b[38;5;124mexample\u001b[39m\u001b[38;5;124m'\u001b[39m)\n\u001b[0;32m      5\u001b[0m x \u001b[38;5;241m=\u001b[39m model\u001b[38;5;241m.\u001b[39maddVar(\u001b[38;5;124m'\u001b[39m\u001b[38;5;124mx\u001b[39m\u001b[38;5;124m'\u001b[39m, vtype \u001b[38;5;241m=\u001b[39m \u001b[38;5;124m\"\u001b[39m\u001b[38;5;124mINTEGER\u001b[39m\u001b[38;5;124m\"\u001b[39m)\n",
      "\u001b[1;31mModuleNotFoundError\u001b[0m: No module named 'pyscipopt'"
     ]
    }
   ],
   "source": [
    "from pyscipopt import Model\n",
    "\n",
    "model = Model('example')\n",
    "\n",
    "x = model.addVar('x', vtype = \"INTEGER\")\n",
    "y = model.addVar('y')\n",
    "z = model.addVar('z')\n",
    "\n",
    "model.setObjective(z, sense = 'maximize')\n",
    "\n",
    "model.addCons(z == x+y*x)\n",
    "model.addCons(-x+2*y*x <= 8)\n",
    "model.addCons(2*x+y <= 14)\n",
    "model.addCons(2*x-y <= 10)\n",
    "\n",
    "model.optimize()\n",
    "\n",
    "sol = model.getBestSol()\n",
    "\n",
    "print(\"x = \", sol[x])\n",
    "print(\"y = \", sol[y])"
   ]
  },
  {
   "cell_type": "code",
   "execution_count": null,
   "id": "5064f2dc",
   "metadata": {},
   "outputs": [],
   "source": []
  },
  {
   "cell_type": "code",
   "execution_count": null,
   "id": "e5c28397",
   "metadata": {},
   "outputs": [],
   "source": []
  },
  {
   "cell_type": "code",
   "execution_count": null,
   "id": "668cac5d",
   "metadata": {},
   "outputs": [],
   "source": []
  },
  {
   "cell_type": "code",
   "execution_count": null,
   "id": "1b1239a8",
   "metadata": {},
   "outputs": [],
   "source": []
  },
  {
   "cell_type": "code",
   "execution_count": null,
   "id": "70d2c6fa",
   "metadata": {},
   "outputs": [],
   "source": []
  }
 ],
 "metadata": {
  "kernelspec": {
   "display_name": "Python 3 (ipykernel)",
   "language": "python",
   "name": "python3"
  },
  "language_info": {
   "codemirror_mode": {
    "name": "ipython",
    "version": 3
   },
   "file_extension": ".py",
   "mimetype": "text/x-python",
   "name": "python",
   "nbconvert_exporter": "python",
   "pygments_lexer": "ipython3",
   "version": "3.10.9"
  }
 },
 "nbformat": 4,
 "nbformat_minor": 5
}
